{
  "nbformat": 4,
  "nbformat_minor": 0,
  "metadata": {
    "colab": {
      "name": "TrabalhoSAD.ipynb",
      "version": "0.3.2",
      "provenance": [],
      "collapsed_sections": [],
      "toc_visible": true,
      "include_colab_link": true
    },
    "kernelspec": {
      "name": "python3",
      "display_name": "Python 3"
    }
  },
  "cells": [
    {
      "cell_type": "markdown",
      "metadata": {
        "id": "view-in-github",
        "colab_type": "text"
      },
      "source": [
        "<a href=\"https://colab.research.google.com/github/NinjaTheEngineer/SADTPC/blob/master/TrabalhoSAD.ipynb\" target=\"_parent\"><img src=\"https://colab.research.google.com/assets/colab-badge.svg\" alt=\"Open In Colab\"/></a>"
      ]
    },
    {
      "metadata": {
        "id": "xb-nrtSz_xH2",
        "colab_type": "code",
        "colab": {}
      },
      "cell_type": "code",
      "source": [
        "import pandas as pd\n",
        "from google.colab import files\n",
        "import io\n",
        "import numpy as np\n",
        "import seaborn as sns\n",
        "import matplotlib as mlp\n",
        "import matplotlib.pyplot as plt"
      ],
      "execution_count": 0,
      "outputs": []
    },
    {
      "metadata": {
        "id": "zAgQktD4CjBR",
        "colab_type": "code",
        "outputId": "f60ab9ad-795d-4630-8872-c7e51a7b92bd",
        "colab": {
          "resources": {
            "http://localhost:8080/nbextensions/google.colab/files.js": {
              "data": "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",
              "ok": true,
              "headers": [
                [
                  "content-type",
                  "application/javascript"
                ]
              ],
              "status": 200,
              "status_text": ""
            }
          },
          "base_uri": "https://localhost:8080/",
          "height": 72
        }
      },
      "cell_type": "code",
      "source": [
        "#Upload movies_metadata.csv\n",
        "uploaded = files.upload()"
      ],
      "execution_count": 3,
      "outputs": [
        {
          "output_type": "display_data",
          "data": {
            "text/html": [
              "\n",
              "     <input type=\"file\" id=\"files-aa8310a8-6417-4364-bb38-af02e66da168\" name=\"files[]\" multiple disabled />\n",
              "     <output id=\"result-aa8310a8-6417-4364-bb38-af02e66da168\">\n",
              "      Upload widget is only available when the cell has been executed in the\n",
              "      current browser session. Please rerun this cell to enable.\n",
              "      </output>\n",
              "      <script src=\"/nbextensions/google.colab/files.js\"></script> "
            ],
            "text/plain": [
              "<IPython.core.display.HTML object>"
            ]
          },
          "metadata": {
            "tags": []
          }
        },
        {
          "output_type": "stream",
          "text": [
            "Saving movies_metadata.csv to movies_metadata.csv\n"
          ],
          "name": "stdout"
        }
      ]
    },
    {
      "metadata": {
        "id": "pd5HzTKOD70O",
        "colab_type": "code",
        "colab": {}
      },
      "cell_type": "code",
      "source": [
        "uploaded = files.upload()"
      ],
      "execution_count": 0,
      "outputs": []
    },
    {
      "metadata": {
        "id": "88xGc9HtVzFw",
        "colab_type": "code",
        "colab": {}
      },
      "cell_type": "code",
      "source": [
        "\n",
        "df_movies = pd.read_csv('movies_metadata.csv', low_memory=False)"
      ],
      "execution_count": 0,
      "outputs": []
    },
    {
      "metadata": {
        "id": "cbMBa1TxDPeK",
        "colab_type": "code",
        "outputId": "93fb25d5-00c1-4d98-b8b8-a1d9c4fed5c5",
        "colab": {
          "base_uri": "https://localhost:8080/",
          "height": 4539
        }
      },
      "cell_type": "code",
      "source": [
        "#colunas a ser utilizadas\n",
        "df_movies = pd.DataFrame(df_movies, columns=['id', 'original_title', 'genres', 'original_language', 'popularity','budget', 'revenue','vote_average','vote_count'])\n",
        "\n",
        "#Remover valores Null\n",
        "#TRATAMENTO DE NANS\n",
        "df_movies = df_movies.dropna()\n",
        "#Display da tabela por filmes com maior média de votos e quantidade de votos\n",
        "df_movies.sort_values(by=['vote_count','vote_average'], ascending=False)"
      ],
      "execution_count": 0,
      "outputs": [
        {
          "output_type": "execute_result",
          "data": {
            "text/html": [
              "<div>\n",
              "<style scoped>\n",
              "    .dataframe tbody tr th:only-of-type {\n",
              "        vertical-align: middle;\n",
              "    }\n",
              "\n",
              "    .dataframe tbody tr th {\n",
              "        vertical-align: top;\n",
              "    }\n",
              "\n",
              "    .dataframe thead th {\n",
              "        text-align: right;\n",
              "    }\n",
              "</style>\n",
              "<table border=\"1\" class=\"dataframe\">\n",
              "  <thead>\n",
              "    <tr style=\"text-align: right;\">\n",
              "      <th></th>\n",
              "      <th>id</th>\n",
              "      <th>original_title</th>\n",
              "      <th>genres</th>\n",
              "      <th>original_language</th>\n",
              "      <th>popularity</th>\n",
              "      <th>budget</th>\n",
              "      <th>revenue</th>\n",
              "      <th>vote_average</th>\n",
              "      <th>vote_count</th>\n",
              "    </tr>\n",
              "  </thead>\n",
              "  <tbody>\n",
              "    <tr>\n",
              "      <th>15480</th>\n",
              "      <td>27205</td>\n",
              "      <td>Inception</td>\n",
              "      <td>[{'id': 28, 'name': 'Action'}, {'id': 53, 'nam...</td>\n",
              "      <td>en</td>\n",
              "      <td>29.108149</td>\n",
              "      <td>160000000</td>\n",
              "      <td>8.255328e+08</td>\n",
              "      <td>8.1</td>\n",
              "      <td>14075.0</td>\n",
              "    </tr>\n",
              "    <tr>\n",
              "      <th>12481</th>\n",
              "      <td>155</td>\n",
              "      <td>The Dark Knight</td>\n",
              "      <td>[{'id': 18, 'name': 'Drama'}, {'id': 28, 'name...</td>\n",
              "      <td>en</td>\n",
              "      <td>123.167259</td>\n",
              "      <td>185000000</td>\n",
              "      <td>1.004558e+09</td>\n",
              "      <td>8.3</td>\n",
              "      <td>12269.0</td>\n",
              "    </tr>\n",
              "    <tr>\n",
              "      <th>14551</th>\n",
              "      <td>19995</td>\n",
              "      <td>Avatar</td>\n",
              "      <td>[{'id': 28, 'name': 'Action'}, {'id': 12, 'nam...</td>\n",
              "      <td>en</td>\n",
              "      <td>185.070892</td>\n",
              "      <td>237000000</td>\n",
              "      <td>2.787965e+09</td>\n",
              "      <td>7.2</td>\n",
              "      <td>12114.0</td>\n",
              "    </tr>\n",
              "    <tr>\n",
              "      <th>17818</th>\n",
              "      <td>24428</td>\n",
              "      <td>The Avengers</td>\n",
              "      <td>[{'id': 878, 'name': 'Science Fiction'}, {'id'...</td>\n",
              "      <td>en</td>\n",
              "      <td>89.887648</td>\n",
              "      <td>220000000</td>\n",
              "      <td>1.519558e+09</td>\n",
              "      <td>7.4</td>\n",
              "      <td>12000.0</td>\n",
              "    </tr>\n",
              "    <tr>\n",
              "      <th>26564</th>\n",
              "      <td>293660</td>\n",
              "      <td>Deadpool</td>\n",
              "      <td>[{'id': 28, 'name': 'Action'}, {'id': 12, 'nam...</td>\n",
              "      <td>en</td>\n",
              "      <td>187.860492</td>\n",
              "      <td>58000000</td>\n",
              "      <td>7.831130e+08</td>\n",
              "      <td>7.4</td>\n",
              "      <td>11444.0</td>\n",
              "    </tr>\n",
              "    <tr>\n",
              "      <th>22879</th>\n",
              "      <td>157336</td>\n",
              "      <td>Interstellar</td>\n",
              "      <td>[{'id': 12, 'name': 'Adventure'}, {'id': 18, '...</td>\n",
              "      <td>en</td>\n",
              "      <td>32.213481</td>\n",
              "      <td>165000000</td>\n",
              "      <td>6.751200e+08</td>\n",
              "      <td>8.1</td>\n",
              "      <td>11187.0</td>\n",
              "    </tr>\n",
              "    <tr>\n",
              "      <th>20051</th>\n",
              "      <td>68718</td>\n",
              "      <td>Django Unchained</td>\n",
              "      <td>[{'id': 18, 'name': 'Drama'}, {'id': 37, 'name...</td>\n",
              "      <td>en</td>\n",
              "      <td>19.785025</td>\n",
              "      <td>100000000</td>\n",
              "      <td>4.253682e+08</td>\n",
              "      <td>7.8</td>\n",
              "      <td>10297.0</td>\n",
              "    </tr>\n",
              "    <tr>\n",
              "      <th>23753</th>\n",
              "      <td>118340</td>\n",
              "      <td>Guardians of the Galaxy</td>\n",
              "      <td>[{'id': 28, 'name': 'Action'}, {'id': 878, 'na...</td>\n",
              "      <td>en</td>\n",
              "      <td>53.291601</td>\n",
              "      <td>170000000</td>\n",
              "      <td>7.733286e+08</td>\n",
              "      <td>7.9</td>\n",
              "      <td>10014.0</td>\n",
              "    </tr>\n",
              "    <tr>\n",
              "      <th>2843</th>\n",
              "      <td>550</td>\n",
              "      <td>Fight Club</td>\n",
              "      <td>[{'id': 18, 'name': 'Drama'}]</td>\n",
              "      <td>en</td>\n",
              "      <td>63.869599</td>\n",
              "      <td>63000000</td>\n",
              "      <td>1.008538e+08</td>\n",
              "      <td>8.3</td>\n",
              "      <td>9678.0</td>\n",
              "    </tr>\n",
              "    <tr>\n",
              "      <th>18244</th>\n",
              "      <td>70160</td>\n",
              "      <td>The Hunger Games</td>\n",
              "      <td>[{'id': 878, 'name': 'Science Fiction'}, {'id'...</td>\n",
              "      <td>en</td>\n",
              "      <td>20.031667</td>\n",
              "      <td>75000000</td>\n",
              "      <td>6.912107e+08</td>\n",
              "      <td>6.9</td>\n",
              "      <td>9634.0</td>\n",
              "    </tr>\n",
              "    <tr>\n",
              "      <th>26553</th>\n",
              "      <td>76341</td>\n",
              "      <td>Mad Max: Fury Road</td>\n",
              "      <td>[{'id': 28, 'name': 'Action'}, {'id': 12, 'nam...</td>\n",
              "      <td>en</td>\n",
              "      <td>29.36178</td>\n",
              "      <td>150000000</td>\n",
              "      <td>3.788583e+08</td>\n",
              "      <td>7.3</td>\n",
              "      <td>9629.0</td>\n",
              "    </tr>\n",
              "    <tr>\n",
              "      <th>18252</th>\n",
              "      <td>49026</td>\n",
              "      <td>The Dark Knight Rises</td>\n",
              "      <td>[{'id': 28, 'name': 'Action'}, {'id': 80, 'nam...</td>\n",
              "      <td>en</td>\n",
              "      <td>20.58258</td>\n",
              "      <td>250000000</td>\n",
              "      <td>1.084939e+09</td>\n",
              "      <td>7.6</td>\n",
              "      <td>9263.0</td>\n",
              "    </tr>\n",
              "    <tr>\n",
              "      <th>2458</th>\n",
              "      <td>603</td>\n",
              "      <td>The Matrix</td>\n",
              "      <td>[{'id': 28, 'name': 'Action'}, {'id': 878, 'na...</td>\n",
              "      <td>en</td>\n",
              "      <td>33.366332</td>\n",
              "      <td>63000000</td>\n",
              "      <td>4.635174e+08</td>\n",
              "      <td>7.9</td>\n",
              "      <td>9079.0</td>\n",
              "    </tr>\n",
              "    <tr>\n",
              "      <th>12588</th>\n",
              "      <td>1726</td>\n",
              "      <td>Iron Man</td>\n",
              "      <td>[{'id': 28, 'name': 'Action'}, {'id': 878, 'na...</td>\n",
              "      <td>en</td>\n",
              "      <td>22.073099</td>\n",
              "      <td>140000000</td>\n",
              "      <td>5.851742e+08</td>\n",
              "      <td>7.4</td>\n",
              "      <td>8951.0</td>\n",
              "    </tr>\n",
              "    <tr>\n",
              "      <th>20830</th>\n",
              "      <td>68721</td>\n",
              "      <td>Iron Man 3</td>\n",
              "      <td>[{'id': 28, 'name': 'Action'}, {'id': 12, 'nam...</td>\n",
              "      <td>en</td>\n",
              "      <td>23.721243</td>\n",
              "      <td>200000000</td>\n",
              "      <td>1.215440e+09</td>\n",
              "      <td>6.8</td>\n",
              "      <td>8951.0</td>\n",
              "    </tr>\n",
              "    <tr>\n",
              "      <th>4863</th>\n",
              "      <td>120</td>\n",
              "      <td>The Lord of the Rings: The Fellowship of the Ring</td>\n",
              "      <td>[{'id': 12, 'name': 'Adventure'}, {'id': 14, '...</td>\n",
              "      <td>en</td>\n",
              "      <td>32.070725</td>\n",
              "      <td>93000000</td>\n",
              "      <td>8.713684e+08</td>\n",
              "      <td>8.0</td>\n",
              "      <td>8892.0</td>\n",
              "    </tr>\n",
              "    <tr>\n",
              "      <th>25084</th>\n",
              "      <td>135397</td>\n",
              "      <td>Jurassic World</td>\n",
              "      <td>[{'id': 28, 'name': 'Action'}, {'id': 12, 'nam...</td>\n",
              "      <td>en</td>\n",
              "      <td>32.790475</td>\n",
              "      <td>150000000</td>\n",
              "      <td>1.513529e+09</td>\n",
              "      <td>6.5</td>\n",
              "      <td>8842.0</td>\n",
              "    </tr>\n",
              "    <tr>\n",
              "      <th>292</th>\n",
              "      <td>680</td>\n",
              "      <td>Pulp Fiction</td>\n",
              "      <td>[{'id': 53, 'name': 'Thriller'}, {'id': 80, 'n...</td>\n",
              "      <td>en</td>\n",
              "      <td>140.950236</td>\n",
              "      <td>8000000</td>\n",
              "      <td>2.139288e+08</td>\n",
              "      <td>8.3</td>\n",
              "      <td>8670.0</td>\n",
              "    </tr>\n",
              "    <tr>\n",
              "      <th>19971</th>\n",
              "      <td>49051</td>\n",
              "      <td>The Hobbit: An Unexpected Journey</td>\n",
              "      <td>[{'id': 12, 'name': 'Adventure'}, {'id': 14, '...</td>\n",
              "      <td>en</td>\n",
              "      <td>23.253089</td>\n",
              "      <td>250000000</td>\n",
              "      <td>1.021104e+09</td>\n",
              "      <td>7.0</td>\n",
              "      <td>8427.0</td>\n",
              "    </tr>\n",
              "    <tr>\n",
              "      <th>314</th>\n",
              "      <td>278</td>\n",
              "      <td>The Shawshank Redemption</td>\n",
              "      <td>[{'id': 18, 'name': 'Drama'}, {'id': 80, 'name...</td>\n",
              "      <td>en</td>\n",
              "      <td>51.645403</td>\n",
              "      <td>25000000</td>\n",
              "      <td>2.834147e+07</td>\n",
              "      <td>8.5</td>\n",
              "      <td>8358.0</td>\n",
              "    </tr>\n",
              "    <tr>\n",
              "      <th>7000</th>\n",
              "      <td>122</td>\n",
              "      <td>The Lord of the Rings: The Return of the King</td>\n",
              "      <td>[{'id': 12, 'name': 'Adventure'}, {'id': 14, '...</td>\n",
              "      <td>en</td>\n",
              "      <td>29.324358</td>\n",
              "      <td>94000000</td>\n",
              "      <td>1.118889e+09</td>\n",
              "      <td>8.1</td>\n",
              "      <td>8226.0</td>\n",
              "    </tr>\n",
              "    <tr>\n",
              "      <th>351</th>\n",
              "      <td>13</td>\n",
              "      <td>Forrest Gump</td>\n",
              "      <td>[{'id': 35, 'name': 'Comedy'}, {'id': 18, 'nam...</td>\n",
              "      <td>en</td>\n",
              "      <td>48.307194</td>\n",
              "      <td>55000000</td>\n",
              "      <td>6.779454e+08</td>\n",
              "      <td>8.2</td>\n",
              "      <td>8147.0</td>\n",
              "    </tr>\n",
              "    <tr>\n",
              "      <th>26555</th>\n",
              "      <td>140607</td>\n",
              "      <td>Star Wars: The Force Awakens</td>\n",
              "      <td>[{'id': 28, 'name': 'Action'}, {'id': 12, 'nam...</td>\n",
              "      <td>en</td>\n",
              "      <td>31.626013</td>\n",
              "      <td>245000000</td>\n",
              "      <td>2.068224e+09</td>\n",
              "      <td>7.5</td>\n",
              "      <td>7993.0</td>\n",
              "    </tr>\n",
              "    <tr>\n",
              "      <th>1639</th>\n",
              "      <td>597</td>\n",
              "      <td>Titanic</td>\n",
              "      <td>[{'id': 18, 'name': 'Drama'}, {'id': 10749, 'n...</td>\n",
              "      <td>en</td>\n",
              "      <td>26.88907</td>\n",
              "      <td>200000000</td>\n",
              "      <td>1.845034e+09</td>\n",
              "      <td>7.5</td>\n",
              "      <td>7770.0</td>\n",
              "    </tr>\n",
              "    <tr>\n",
              "      <th>19261</th>\n",
              "      <td>37724</td>\n",
              "      <td>Skyfall</td>\n",
              "      <td>[{'id': 28, 'name': 'Action'}, {'id': 12, 'nam...</td>\n",
              "      <td>en</td>\n",
              "      <td>20.309585</td>\n",
              "      <td>200000000</td>\n",
              "      <td>1.108561e+09</td>\n",
              "      <td>6.9</td>\n",
              "      <td>7718.0</td>\n",
              "    </tr>\n",
              "    <tr>\n",
              "      <th>30543</th>\n",
              "      <td>297761</td>\n",
              "      <td>Suicide Squad</td>\n",
              "      <td>[{'id': 28, 'name': 'Action'}, {'id': 12, 'nam...</td>\n",
              "      <td>en</td>\n",
              "      <td>42.965027</td>\n",
              "      <td>175000000</td>\n",
              "      <td>7.456001e+08</td>\n",
              "      <td>5.9</td>\n",
              "      <td>7717.0</td>\n",
              "    </tr>\n",
              "    <tr>\n",
              "      <th>5814</th>\n",
              "      <td>121</td>\n",
              "      <td>The Lord of the Rings: The Two Towers</td>\n",
              "      <td>[{'id': 12, 'name': 'Adventure'}, {'id': 14, '...</td>\n",
              "      <td>en</td>\n",
              "      <td>29.423537</td>\n",
              "      <td>79000000</td>\n",
              "      <td>9.262874e+08</td>\n",
              "      <td>8.0</td>\n",
              "      <td>7641.0</td>\n",
              "    </tr>\n",
              "    <tr>\n",
              "      <th>10122</th>\n",
              "      <td>272</td>\n",
              "      <td>Batman Begins</td>\n",
              "      <td>[{'id': 28, 'name': 'Action'}, {'id': 80, 'nam...</td>\n",
              "      <td>en</td>\n",
              "      <td>28.505341</td>\n",
              "      <td>150000000</td>\n",
              "      <td>3.742187e+08</td>\n",
              "      <td>7.5</td>\n",
              "      <td>7511.0</td>\n",
              "    </tr>\n",
              "    <tr>\n",
              "      <th>26567</th>\n",
              "      <td>271110</td>\n",
              "      <td>Captain America: Civil War</td>\n",
              "      <td>[{'id': 12, 'name': 'Adventure'}, {'id': 28, '...</td>\n",
              "      <td>en</td>\n",
              "      <td>145.882135</td>\n",
              "      <td>250000000</td>\n",
              "      <td>1.153304e+09</td>\n",
              "      <td>7.1</td>\n",
              "      <td>7462.0</td>\n",
              "    </tr>\n",
              "    <tr>\n",
              "      <th>30051</th>\n",
              "      <td>286217</td>\n",
              "      <td>The Martian</td>\n",
              "      <td>[{'id': 18, 'name': 'Drama'}, {'id': 12, 'name...</td>\n",
              "      <td>en</td>\n",
              "      <td>25.62993</td>\n",
              "      <td>108000000</td>\n",
              "      <td>6.301619e+08</td>\n",
              "      <td>7.6</td>\n",
              "      <td>7442.0</td>\n",
              "    </tr>\n",
              "    <tr>\n",
              "      <th>...</th>\n",
              "      <td>...</td>\n",
              "      <td>...</td>\n",
              "      <td>...</td>\n",
              "      <td>...</td>\n",
              "      <td>...</td>\n",
              "      <td>...</td>\n",
              "      <td>...</td>\n",
              "      <td>...</td>\n",
              "      <td>...</td>\n",
              "    </tr>\n",
              "    <tr>\n",
              "      <th>45234</th>\n",
              "      <td>433410</td>\n",
              "      <td>Selbstkritik eines bürgerlichen Hundes</td>\n",
              "      <td>[{'id': 35, 'name': 'Comedy'}]</td>\n",
              "      <td>en</td>\n",
              "      <td>0.079173</td>\n",
              "      <td>0</td>\n",
              "      <td>0.000000e+00</td>\n",
              "      <td>0.0</td>\n",
              "      <td>0.0</td>\n",
              "    </tr>\n",
              "    <tr>\n",
              "      <th>45235</th>\n",
              "      <td>429039</td>\n",
              "      <td>Jean Ziegler, l'optimisme de la volonté</td>\n",
              "      <td>[{'id': 99, 'name': 'Documentary'}]</td>\n",
              "      <td>fr</td>\n",
              "      <td>0.087452</td>\n",
              "      <td>0</td>\n",
              "      <td>0.000000e+00</td>\n",
              "      <td>0.0</td>\n",
              "      <td>0.0</td>\n",
              "    </tr>\n",
              "    <tr>\n",
              "      <th>45246</th>\n",
              "      <td>231216</td>\n",
              "      <td>Villa Henriette</td>\n",
              "      <td>[{'id': 35, 'name': 'Comedy'}]</td>\n",
              "      <td>de</td>\n",
              "      <td>0.002513</td>\n",
              "      <td>0</td>\n",
              "      <td>0.000000e+00</td>\n",
              "      <td>0.0</td>\n",
              "      <td>0.0</td>\n",
              "    </tr>\n",
              "    <tr>\n",
              "      <th>45273</th>\n",
              "      <td>467731</td>\n",
              "      <td>Tragedy in a Temporary Town</td>\n",
              "      <td>[{'id': 18, 'name': 'Drama'}]</td>\n",
              "      <td>en</td>\n",
              "      <td>0.001189</td>\n",
              "      <td>0</td>\n",
              "      <td>0.000000e+00</td>\n",
              "      <td>0.0</td>\n",
              "      <td>0.0</td>\n",
              "    </tr>\n",
              "    <tr>\n",
              "      <th>45274</th>\n",
              "      <td>383216</td>\n",
              "      <td>Carole King: Natural Woman</td>\n",
              "      <td>[{'id': 99, 'name': 'Documentary'}]</td>\n",
              "      <td>en</td>\n",
              "      <td>0.033154</td>\n",
              "      <td>0</td>\n",
              "      <td>0.000000e+00</td>\n",
              "      <td>0.0</td>\n",
              "      <td>0.0</td>\n",
              "    </tr>\n",
              "    <tr>\n",
              "      <th>45282</th>\n",
              "      <td>280477</td>\n",
              "      <td>Dom wariatów</td>\n",
              "      <td>[{'id': 18, 'name': 'Drama'}, {'id': 35, 'name...</td>\n",
              "      <td>pl</td>\n",
              "      <td>0.02541</td>\n",
              "      <td>0</td>\n",
              "      <td>0.000000e+00</td>\n",
              "      <td>0.0</td>\n",
              "      <td>0.0</td>\n",
              "    </tr>\n",
              "    <tr>\n",
              "      <th>45289</th>\n",
              "      <td>87229</td>\n",
              "      <td>Kóngavegur</td>\n",
              "      <td>[{'id': 18, 'name': 'Drama'}, {'id': 35, 'name...</td>\n",
              "      <td>is</td>\n",
              "      <td>0.008498</td>\n",
              "      <td>0</td>\n",
              "      <td>0.000000e+00</td>\n",
              "      <td>0.0</td>\n",
              "      <td>0.0</td>\n",
              "    </tr>\n",
              "    <tr>\n",
              "      <th>45290</th>\n",
              "      <td>383618</td>\n",
              "      <td>Siv sover vilse</td>\n",
              "      <td>[{'id': 12, 'name': 'Adventure'}, {'id': 10751...</td>\n",
              "      <td>sv</td>\n",
              "      <td>2.660047</td>\n",
              "      <td>0</td>\n",
              "      <td>0.000000e+00</td>\n",
              "      <td>0.0</td>\n",
              "      <td>0.0</td>\n",
              "    </tr>\n",
              "    <tr>\n",
              "      <th>45306</th>\n",
              "      <td>317736</td>\n",
              "      <td>Pani z przedszkola</td>\n",
              "      <td>[{'id': 35, 'name': 'Comedy'}]</td>\n",
              "      <td>pl</td>\n",
              "      <td>0.171539</td>\n",
              "      <td>0</td>\n",
              "      <td>0.000000e+00</td>\n",
              "      <td>0.0</td>\n",
              "      <td>0.0</td>\n",
              "    </tr>\n",
              "    <tr>\n",
              "      <th>45308</th>\n",
              "      <td>108331</td>\n",
              "      <td>Las buenas hierbas</td>\n",
              "      <td>[{'id': 18, 'name': 'Drama'}, {'id': 10769, 'n...</td>\n",
              "      <td>es</td>\n",
              "      <td>0.567931</td>\n",
              "      <td>0</td>\n",
              "      <td>0.000000e+00</td>\n",
              "      <td>0.0</td>\n",
              "      <td>0.0</td>\n",
              "    </tr>\n",
              "    <tr>\n",
              "      <th>45310</th>\n",
              "      <td>418757</td>\n",
              "      <td>Między nami dobrze jest</td>\n",
              "      <td>[]</td>\n",
              "      <td>pl</td>\n",
              "      <td>0.030803</td>\n",
              "      <td>0</td>\n",
              "      <td>0.000000e+00</td>\n",
              "      <td>0.0</td>\n",
              "      <td>0.0</td>\n",
              "    </tr>\n",
              "    <tr>\n",
              "      <th>45311</th>\n",
              "      <td>103462</td>\n",
              "      <td>Grandma Lo-Fi</td>\n",
              "      <td>[]</td>\n",
              "      <td>en</td>\n",
              "      <td>0.017109</td>\n",
              "      <td>0</td>\n",
              "      <td>0.000000e+00</td>\n",
              "      <td>0.0</td>\n",
              "      <td>0.0</td>\n",
              "    </tr>\n",
              "    <tr>\n",
              "      <th>45312</th>\n",
              "      <td>38876</td>\n",
              "      <td>Włatcy móch. Ćmoki, Czopki i Mondzioły</td>\n",
              "      <td>[{'id': 35, 'name': 'Comedy'}, {'id': 16, 'nam...</td>\n",
              "      <td>en</td>\n",
              "      <td>0.008064</td>\n",
              "      <td>0</td>\n",
              "      <td>0.000000e+00</td>\n",
              "      <td>0.0</td>\n",
              "      <td>0.0</td>\n",
              "    </tr>\n",
              "    <tr>\n",
              "      <th>45313</th>\n",
              "      <td>369444</td>\n",
              "      <td>Ostatni dzwonek</td>\n",
              "      <td>[{'id': 18, 'name': 'Drama'}]</td>\n",
              "      <td>pl</td>\n",
              "      <td>0.000102</td>\n",
              "      <td>0</td>\n",
              "      <td>0.000000e+00</td>\n",
              "      <td>0.0</td>\n",
              "      <td>0.0</td>\n",
              "    </tr>\n",
              "    <tr>\n",
              "      <th>45315</th>\n",
              "      <td>152912</td>\n",
              "      <td>Pan Kleks w kosmosie</td>\n",
              "      <td>[{'id': 14, 'name': 'Fantasy'}, {'id': 10751, ...</td>\n",
              "      <td>pl</td>\n",
              "      <td>0.648241</td>\n",
              "      <td>0</td>\n",
              "      <td>0.000000e+00</td>\n",
              "      <td>0.0</td>\n",
              "      <td>0.0</td>\n",
              "    </tr>\n",
              "    <tr>\n",
              "      <th>45316</th>\n",
              "      <td>68802</td>\n",
              "      <td>Przyjaciel wesołego diabła</td>\n",
              "      <td>[{'id': 12, 'name': 'Adventure'}, {'id': 10751...</td>\n",
              "      <td>pl</td>\n",
              "      <td>0.000151</td>\n",
              "      <td>0</td>\n",
              "      <td>0.000000e+00</td>\n",
              "      <td>0.0</td>\n",
              "      <td>0.0</td>\n",
              "    </tr>\n",
              "    <tr>\n",
              "      <th>45338</th>\n",
              "      <td>335251</td>\n",
              "      <td>The Land Where the Blues Began</td>\n",
              "      <td>[]</td>\n",
              "      <td>en</td>\n",
              "      <td>0.0</td>\n",
              "      <td>0</td>\n",
              "      <td>0.000000e+00</td>\n",
              "      <td>0.0</td>\n",
              "      <td>0.0</td>\n",
              "    </tr>\n",
              "    <tr>\n",
              "      <th>45359</th>\n",
              "      <td>270762</td>\n",
              "      <td>What a Fuck Am I Doing on This Battlefield</td>\n",
              "      <td>[]</td>\n",
              "      <td>en</td>\n",
              "      <td>0.020752</td>\n",
              "      <td>0</td>\n",
              "      <td>0.000000e+00</td>\n",
              "      <td>0.0</td>\n",
              "      <td>0.0</td>\n",
              "    </tr>\n",
              "    <tr>\n",
              "      <th>45361</th>\n",
              "      <td>214753</td>\n",
              "      <td>The Airzone Solution</td>\n",
              "      <td>[]</td>\n",
              "      <td>en</td>\n",
              "      <td>0.000108</td>\n",
              "      <td>0</td>\n",
              "      <td>0.000000e+00</td>\n",
              "      <td>0.0</td>\n",
              "      <td>0.0</td>\n",
              "    </tr>\n",
              "    <tr>\n",
              "      <th>45367</th>\n",
              "      <td>449696</td>\n",
              "      <td>The Stranger: Summoned by Shadows</td>\n",
              "      <td>[{'id': 878, 'name': 'Science Fiction'}]</td>\n",
              "      <td>en</td>\n",
              "      <td>3.5e-05</td>\n",
              "      <td>0</td>\n",
              "      <td>0.000000e+00</td>\n",
              "      <td>0.0</td>\n",
              "      <td>0.0</td>\n",
              "    </tr>\n",
              "    <tr>\n",
              "      <th>45376</th>\n",
              "      <td>261871</td>\n",
              "      <td>Полярный рейс</td>\n",
              "      <td>[{'id': 35, 'name': 'Comedy'}, {'id': 10749, '...</td>\n",
              "      <td>ru</td>\n",
              "      <td>0.036523</td>\n",
              "      <td>0</td>\n",
              "      <td>0.000000e+00</td>\n",
              "      <td>0.0</td>\n",
              "      <td>0.0</td>\n",
              "    </tr>\n",
              "    <tr>\n",
              "      <th>45377</th>\n",
              "      <td>317389</td>\n",
              "      <td>Simbad e il califfo di Bagdad</td>\n",
              "      <td>[{'id': 12, 'name': 'Adventure'}]</td>\n",
              "      <td>es</td>\n",
              "      <td>0.006352</td>\n",
              "      <td>0</td>\n",
              "      <td>0.000000e+00</td>\n",
              "      <td>0.0</td>\n",
              "      <td>0.0</td>\n",
              "    </tr>\n",
              "    <tr>\n",
              "      <th>45393</th>\n",
              "      <td>200066</td>\n",
              "      <td>Il frullo del passero</td>\n",
              "      <td>[{'id': 18, 'name': 'Drama'}, {'id': 10749, 'n...</td>\n",
              "      <td>en</td>\n",
              "      <td>0.138621</td>\n",
              "      <td>0</td>\n",
              "      <td>0.000000e+00</td>\n",
              "      <td>0.0</td>\n",
              "      <td>0.0</td>\n",
              "    </tr>\n",
              "    <tr>\n",
              "      <th>45416</th>\n",
              "      <td>282308</td>\n",
              "      <td>Rigadin peintre cubiste</td>\n",
              "      <td>[{'id': 35, 'name': 'Comedy'}]</td>\n",
              "      <td>en</td>\n",
              "      <td>0.003732</td>\n",
              "      <td>0</td>\n",
              "      <td>0.000000e+00</td>\n",
              "      <td>0.0</td>\n",
              "      <td>0.0</td>\n",
              "    </tr>\n",
              "    <tr>\n",
              "      <th>45431</th>\n",
              "      <td>257472</td>\n",
              "      <td>Rivers of Sand</td>\n",
              "      <td>[{'id': 99, 'name': 'Documentary'}]</td>\n",
              "      <td>en</td>\n",
              "      <td>0.0375</td>\n",
              "      <td>0</td>\n",
              "      <td>0.000000e+00</td>\n",
              "      <td>0.0</td>\n",
              "      <td>0.0</td>\n",
              "    </tr>\n",
              "    <tr>\n",
              "      <th>45432</th>\n",
              "      <td>323132</td>\n",
              "      <td>Altar of Fire</td>\n",
              "      <td>[{'id': 99, 'name': 'Documentary'}]</td>\n",
              "      <td>en</td>\n",
              "      <td>0.0</td>\n",
              "      <td>0</td>\n",
              "      <td>0.000000e+00</td>\n",
              "      <td>0.0</td>\n",
              "      <td>0.0</td>\n",
              "    </tr>\n",
              "    <tr>\n",
              "      <th>45434</th>\n",
              "      <td>325439</td>\n",
              "      <td>Le Meraviglie di Aladino</td>\n",
              "      <td>[]</td>\n",
              "      <td>en</td>\n",
              "      <td>0.093498</td>\n",
              "      <td>0</td>\n",
              "      <td>0.000000e+00</td>\n",
              "      <td>0.0</td>\n",
              "      <td>0.0</td>\n",
              "    </tr>\n",
              "    <tr>\n",
              "      <th>45452</th>\n",
              "      <td>276895</td>\n",
              "      <td>Deep Hearts</td>\n",
              "      <td>[{'id': 99, 'name': 'Documentary'}]</td>\n",
              "      <td>en</td>\n",
              "      <td>0.011025</td>\n",
              "      <td>0</td>\n",
              "      <td>0.000000e+00</td>\n",
              "      <td>0.0</td>\n",
              "      <td>0.0</td>\n",
              "    </tr>\n",
              "    <tr>\n",
              "      <th>45464</th>\n",
              "      <td>227506</td>\n",
              "      <td>Satana likuyushchiy</td>\n",
              "      <td>[]</td>\n",
              "      <td>en</td>\n",
              "      <td>0.003503</td>\n",
              "      <td>0</td>\n",
              "      <td>0.000000e+00</td>\n",
              "      <td>0.0</td>\n",
              "      <td>0.0</td>\n",
              "    </tr>\n",
              "    <tr>\n",
              "      <th>45465</th>\n",
              "      <td>461257</td>\n",
              "      <td>Queerama</td>\n",
              "      <td>[]</td>\n",
              "      <td>en</td>\n",
              "      <td>0.163015</td>\n",
              "      <td>0</td>\n",
              "      <td>0.000000e+00</td>\n",
              "      <td>0.0</td>\n",
              "      <td>0.0</td>\n",
              "    </tr>\n",
              "  </tbody>\n",
              "</table>\n",
              "<p>45449 rows × 9 columns</p>\n",
              "</div>"
            ],
            "text/plain": [
              "           id                                     original_title  \\\n",
              "15480   27205                                          Inception   \n",
              "12481     155                                    The Dark Knight   \n",
              "14551   19995                                             Avatar   \n",
              "17818   24428                                       The Avengers   \n",
              "26564  293660                                           Deadpool   \n",
              "22879  157336                                       Interstellar   \n",
              "20051   68718                                   Django Unchained   \n",
              "23753  118340                            Guardians of the Galaxy   \n",
              "2843      550                                         Fight Club   \n",
              "18244   70160                                   The Hunger Games   \n",
              "26553   76341                                 Mad Max: Fury Road   \n",
              "18252   49026                              The Dark Knight Rises   \n",
              "2458      603                                         The Matrix   \n",
              "12588    1726                                           Iron Man   \n",
              "20830   68721                                         Iron Man 3   \n",
              "4863      120  The Lord of the Rings: The Fellowship of the Ring   \n",
              "25084  135397                                     Jurassic World   \n",
              "292       680                                       Pulp Fiction   \n",
              "19971   49051                  The Hobbit: An Unexpected Journey   \n",
              "314       278                           The Shawshank Redemption   \n",
              "7000      122      The Lord of the Rings: The Return of the King   \n",
              "351        13                                       Forrest Gump   \n",
              "26555  140607                       Star Wars: The Force Awakens   \n",
              "1639      597                                            Titanic   \n",
              "19261   37724                                            Skyfall   \n",
              "30543  297761                                      Suicide Squad   \n",
              "5814      121              The Lord of the Rings: The Two Towers   \n",
              "10122     272                                      Batman Begins   \n",
              "26567  271110                         Captain America: Civil War   \n",
              "30051  286217                                        The Martian   \n",
              "...       ...                                                ...   \n",
              "45234  433410             Selbstkritik eines bürgerlichen Hundes   \n",
              "45235  429039            Jean Ziegler, l'optimisme de la volonté   \n",
              "45246  231216                                    Villa Henriette   \n",
              "45273  467731                        Tragedy in a Temporary Town   \n",
              "45274  383216                         Carole King: Natural Woman   \n",
              "45282  280477                                       Dom wariatów   \n",
              "45289   87229                                         Kóngavegur   \n",
              "45290  383618                                    Siv sover vilse   \n",
              "45306  317736                                 Pani z przedszkola   \n",
              "45308  108331                                 Las buenas hierbas   \n",
              "45310  418757                            Między nami dobrze jest   \n",
              "45311  103462                                      Grandma Lo-Fi   \n",
              "45312   38876             Włatcy móch. Ćmoki, Czopki i Mondzioły   \n",
              "45313  369444                                    Ostatni dzwonek   \n",
              "45315  152912                               Pan Kleks w kosmosie   \n",
              "45316   68802                         Przyjaciel wesołego diabła   \n",
              "45338  335251                     The Land Where the Blues Began   \n",
              "45359  270762         What a Fuck Am I Doing on This Battlefield   \n",
              "45361  214753                               The Airzone Solution   \n",
              "45367  449696                  The Stranger: Summoned by Shadows   \n",
              "45376  261871                                      Полярный рейс   \n",
              "45377  317389                      Simbad e il califfo di Bagdad   \n",
              "45393  200066                              Il frullo del passero   \n",
              "45416  282308                            Rigadin peintre cubiste   \n",
              "45431  257472                                     Rivers of Sand   \n",
              "45432  323132                                      Altar of Fire   \n",
              "45434  325439                           Le Meraviglie di Aladino   \n",
              "45452  276895                                        Deep Hearts   \n",
              "45464  227506                                Satana likuyushchiy   \n",
              "45465  461257                                           Queerama   \n",
              "\n",
              "                                                  genres original_language  \\\n",
              "15480  [{'id': 28, 'name': 'Action'}, {'id': 53, 'nam...                en   \n",
              "12481  [{'id': 18, 'name': 'Drama'}, {'id': 28, 'name...                en   \n",
              "14551  [{'id': 28, 'name': 'Action'}, {'id': 12, 'nam...                en   \n",
              "17818  [{'id': 878, 'name': 'Science Fiction'}, {'id'...                en   \n",
              "26564  [{'id': 28, 'name': 'Action'}, {'id': 12, 'nam...                en   \n",
              "22879  [{'id': 12, 'name': 'Adventure'}, {'id': 18, '...                en   \n",
              "20051  [{'id': 18, 'name': 'Drama'}, {'id': 37, 'name...                en   \n",
              "23753  [{'id': 28, 'name': 'Action'}, {'id': 878, 'na...                en   \n",
              "2843                       [{'id': 18, 'name': 'Drama'}]                en   \n",
              "18244  [{'id': 878, 'name': 'Science Fiction'}, {'id'...                en   \n",
              "26553  [{'id': 28, 'name': 'Action'}, {'id': 12, 'nam...                en   \n",
              "18252  [{'id': 28, 'name': 'Action'}, {'id': 80, 'nam...                en   \n",
              "2458   [{'id': 28, 'name': 'Action'}, {'id': 878, 'na...                en   \n",
              "12588  [{'id': 28, 'name': 'Action'}, {'id': 878, 'na...                en   \n",
              "20830  [{'id': 28, 'name': 'Action'}, {'id': 12, 'nam...                en   \n",
              "4863   [{'id': 12, 'name': 'Adventure'}, {'id': 14, '...                en   \n",
              "25084  [{'id': 28, 'name': 'Action'}, {'id': 12, 'nam...                en   \n",
              "292    [{'id': 53, 'name': 'Thriller'}, {'id': 80, 'n...                en   \n",
              "19971  [{'id': 12, 'name': 'Adventure'}, {'id': 14, '...                en   \n",
              "314    [{'id': 18, 'name': 'Drama'}, {'id': 80, 'name...                en   \n",
              "7000   [{'id': 12, 'name': 'Adventure'}, {'id': 14, '...                en   \n",
              "351    [{'id': 35, 'name': 'Comedy'}, {'id': 18, 'nam...                en   \n",
              "26555  [{'id': 28, 'name': 'Action'}, {'id': 12, 'nam...                en   \n",
              "1639   [{'id': 18, 'name': 'Drama'}, {'id': 10749, 'n...                en   \n",
              "19261  [{'id': 28, 'name': 'Action'}, {'id': 12, 'nam...                en   \n",
              "30543  [{'id': 28, 'name': 'Action'}, {'id': 12, 'nam...                en   \n",
              "5814   [{'id': 12, 'name': 'Adventure'}, {'id': 14, '...                en   \n",
              "10122  [{'id': 28, 'name': 'Action'}, {'id': 80, 'nam...                en   \n",
              "26567  [{'id': 12, 'name': 'Adventure'}, {'id': 28, '...                en   \n",
              "30051  [{'id': 18, 'name': 'Drama'}, {'id': 12, 'name...                en   \n",
              "...                                                  ...               ...   \n",
              "45234                     [{'id': 35, 'name': 'Comedy'}]                en   \n",
              "45235                [{'id': 99, 'name': 'Documentary'}]                fr   \n",
              "45246                     [{'id': 35, 'name': 'Comedy'}]                de   \n",
              "45273                      [{'id': 18, 'name': 'Drama'}]                en   \n",
              "45274                [{'id': 99, 'name': 'Documentary'}]                en   \n",
              "45282  [{'id': 18, 'name': 'Drama'}, {'id': 35, 'name...                pl   \n",
              "45289  [{'id': 18, 'name': 'Drama'}, {'id': 35, 'name...                is   \n",
              "45290  [{'id': 12, 'name': 'Adventure'}, {'id': 10751...                sv   \n",
              "45306                     [{'id': 35, 'name': 'Comedy'}]                pl   \n",
              "45308  [{'id': 18, 'name': 'Drama'}, {'id': 10769, 'n...                es   \n",
              "45310                                                 []                pl   \n",
              "45311                                                 []                en   \n",
              "45312  [{'id': 35, 'name': 'Comedy'}, {'id': 16, 'nam...                en   \n",
              "45313                      [{'id': 18, 'name': 'Drama'}]                pl   \n",
              "45315  [{'id': 14, 'name': 'Fantasy'}, {'id': 10751, ...                pl   \n",
              "45316  [{'id': 12, 'name': 'Adventure'}, {'id': 10751...                pl   \n",
              "45338                                                 []                en   \n",
              "45359                                                 []                en   \n",
              "45361                                                 []                en   \n",
              "45367           [{'id': 878, 'name': 'Science Fiction'}]                en   \n",
              "45376  [{'id': 35, 'name': 'Comedy'}, {'id': 10749, '...                ru   \n",
              "45377                  [{'id': 12, 'name': 'Adventure'}]                es   \n",
              "45393  [{'id': 18, 'name': 'Drama'}, {'id': 10749, 'n...                en   \n",
              "45416                     [{'id': 35, 'name': 'Comedy'}]                en   \n",
              "45431                [{'id': 99, 'name': 'Documentary'}]                en   \n",
              "45432                [{'id': 99, 'name': 'Documentary'}]                en   \n",
              "45434                                                 []                en   \n",
              "45452                [{'id': 99, 'name': 'Documentary'}]                en   \n",
              "45464                                                 []                en   \n",
              "45465                                                 []                en   \n",
              "\n",
              "       popularity     budget       revenue  vote_average  vote_count  \n",
              "15480   29.108149  160000000  8.255328e+08           8.1     14075.0  \n",
              "12481  123.167259  185000000  1.004558e+09           8.3     12269.0  \n",
              "14551  185.070892  237000000  2.787965e+09           7.2     12114.0  \n",
              "17818   89.887648  220000000  1.519558e+09           7.4     12000.0  \n",
              "26564  187.860492   58000000  7.831130e+08           7.4     11444.0  \n",
              "22879   32.213481  165000000  6.751200e+08           8.1     11187.0  \n",
              "20051   19.785025  100000000  4.253682e+08           7.8     10297.0  \n",
              "23753   53.291601  170000000  7.733286e+08           7.9     10014.0  \n",
              "2843    63.869599   63000000  1.008538e+08           8.3      9678.0  \n",
              "18244   20.031667   75000000  6.912107e+08           6.9      9634.0  \n",
              "26553    29.36178  150000000  3.788583e+08           7.3      9629.0  \n",
              "18252    20.58258  250000000  1.084939e+09           7.6      9263.0  \n",
              "2458    33.366332   63000000  4.635174e+08           7.9      9079.0  \n",
              "12588   22.073099  140000000  5.851742e+08           7.4      8951.0  \n",
              "20830   23.721243  200000000  1.215440e+09           6.8      8951.0  \n",
              "4863    32.070725   93000000  8.713684e+08           8.0      8892.0  \n",
              "25084   32.790475  150000000  1.513529e+09           6.5      8842.0  \n",
              "292    140.950236    8000000  2.139288e+08           8.3      8670.0  \n",
              "19971   23.253089  250000000  1.021104e+09           7.0      8427.0  \n",
              "314     51.645403   25000000  2.834147e+07           8.5      8358.0  \n",
              "7000    29.324358   94000000  1.118889e+09           8.1      8226.0  \n",
              "351     48.307194   55000000  6.779454e+08           8.2      8147.0  \n",
              "26555   31.626013  245000000  2.068224e+09           7.5      7993.0  \n",
              "1639     26.88907  200000000  1.845034e+09           7.5      7770.0  \n",
              "19261   20.309585  200000000  1.108561e+09           6.9      7718.0  \n",
              "30543   42.965027  175000000  7.456001e+08           5.9      7717.0  \n",
              "5814    29.423537   79000000  9.262874e+08           8.0      7641.0  \n",
              "10122   28.505341  150000000  3.742187e+08           7.5      7511.0  \n",
              "26567  145.882135  250000000  1.153304e+09           7.1      7462.0  \n",
              "30051    25.62993  108000000  6.301619e+08           7.6      7442.0  \n",
              "...           ...        ...           ...           ...         ...  \n",
              "45234    0.079173          0  0.000000e+00           0.0         0.0  \n",
              "45235    0.087452          0  0.000000e+00           0.0         0.0  \n",
              "45246    0.002513          0  0.000000e+00           0.0         0.0  \n",
              "45273    0.001189          0  0.000000e+00           0.0         0.0  \n",
              "45274    0.033154          0  0.000000e+00           0.0         0.0  \n",
              "45282     0.02541          0  0.000000e+00           0.0         0.0  \n",
              "45289    0.008498          0  0.000000e+00           0.0         0.0  \n",
              "45290    2.660047          0  0.000000e+00           0.0         0.0  \n",
              "45306    0.171539          0  0.000000e+00           0.0         0.0  \n",
              "45308    0.567931          0  0.000000e+00           0.0         0.0  \n",
              "45310    0.030803          0  0.000000e+00           0.0         0.0  \n",
              "45311    0.017109          0  0.000000e+00           0.0         0.0  \n",
              "45312    0.008064          0  0.000000e+00           0.0         0.0  \n",
              "45313    0.000102          0  0.000000e+00           0.0         0.0  \n",
              "45315    0.648241          0  0.000000e+00           0.0         0.0  \n",
              "45316    0.000151          0  0.000000e+00           0.0         0.0  \n",
              "45338         0.0          0  0.000000e+00           0.0         0.0  \n",
              "45359    0.020752          0  0.000000e+00           0.0         0.0  \n",
              "45361    0.000108          0  0.000000e+00           0.0         0.0  \n",
              "45367     3.5e-05          0  0.000000e+00           0.0         0.0  \n",
              "45376    0.036523          0  0.000000e+00           0.0         0.0  \n",
              "45377    0.006352          0  0.000000e+00           0.0         0.0  \n",
              "45393    0.138621          0  0.000000e+00           0.0         0.0  \n",
              "45416    0.003732          0  0.000000e+00           0.0         0.0  \n",
              "45431      0.0375          0  0.000000e+00           0.0         0.0  \n",
              "45432         0.0          0  0.000000e+00           0.0         0.0  \n",
              "45434    0.093498          0  0.000000e+00           0.0         0.0  \n",
              "45452    0.011025          0  0.000000e+00           0.0         0.0  \n",
              "45464    0.003503          0  0.000000e+00           0.0         0.0  \n",
              "45465    0.163015          0  0.000000e+00           0.0         0.0  \n",
              "\n",
              "[45449 rows x 9 columns]"
            ]
          },
          "metadata": {
            "tags": []
          },
          "execution_count": 12
        }
      ]
    },
    {
      "metadata": {
        "id": "ms3kZvlsID3V",
        "colab_type": "code",
        "outputId": "febce4c0-f825-486b-a929-1e08befe4bd2",
        "colab": {
          "base_uri": "https://localhost:8080/",
          "height": 204
        }
      },
      "cell_type": "code",
      "source": [
        "#Numero de filmes do genero X\n",
        "a = df_movies.genres.value_counts().sort_values(ascending=False).head(10)\n",
        "a"
      ],
      "execution_count": 0,
      "outputs": [
        {
          "output_type": "execute_result",
          "data": {
            "text/plain": [
              "[{'id': 18, 'name': 'Drama'}]                                                                    4999\n",
              "[{'id': 35, 'name': 'Comedy'}]                                                                   3620\n",
              "[{'id': 99, 'name': 'Documentary'}]                                                              2720\n",
              "[]                                                                                               2441\n",
              "[{'id': 18, 'name': 'Drama'}, {'id': 10749, 'name': 'Romance'}]                                  1301\n",
              "[{'id': 35, 'name': 'Comedy'}, {'id': 18, 'name': 'Drama'}]                                      1135\n",
              "[{'id': 27, 'name': 'Horror'}]                                                                    974\n",
              "[{'id': 35, 'name': 'Comedy'}, {'id': 10749, 'name': 'Romance'}]                                  930\n",
              "[{'id': 35, 'name': 'Comedy'}, {'id': 18, 'name': 'Drama'}, {'id': 10749, 'name': 'Romance'}]     593\n",
              "[{'id': 18, 'name': 'Drama'}, {'id': 35, 'name': 'Comedy'}]                                       532\n",
              "Name: genres, dtype: int64"
            ]
          },
          "metadata": {
            "tags": []
          },
          "execution_count": 13
        }
      ]
    },
    {
      "metadata": {
        "id": "2WC209TaZo6X",
        "colab_type": "code",
        "outputId": "7ccb2fef-f25b-4459-9ff7-248931382ef9",
        "colab": {
          "base_uri": "https://localhost:8080/",
          "height": 383
        }
      },
      "cell_type": "code",
      "source": [
        "#Contagem das médias de votos\n",
        "b = df_movies.vote_average.value_counts().sort_values(ascending=False).head(20)\n",
        "b.plot(kind=\"bar\",\n",
        "      title=\"Média dos votos por quantidade de filmes\",\n",
        "      fontsize =10,\n",
        "      legend= True,\n",
        "      colormap= \"spring\")\n",
        "print()"
      ],
      "execution_count": 0,
      "outputs": [
        {
          "output_type": "stream",
          "text": [
            "\n"
          ],
          "name": "stdout"
        },
        {
          "output_type": "display_data",
          "data": {
            "image/png": "[encoded data removed]",
            "text/plain": [
              "<Figure size 576x396 with 1 Axes>"
            ]
          },
          "metadata": {
            "tags": []
          }
        }
      ]
    },
    {
      "metadata": {
        "id": "eVqYMUJiIPnH",
        "colab_type": "text"
      },
      "cell_type": "markdown",
      "source": [
        "Com este gráfico conseguimos ver que maior parte dos filmes do dataset não têm média de votos."
      ]
    },
    {
      "metadata": {
        "id": "KOHrksAlJDGH",
        "colab_type": "code",
        "outputId": "c62bb4c1-ace8-4080-c730-73a7ffb5a71f",
        "colab": {
          "base_uri": "https://localhost:8080/",
          "height": 380
        }
      },
      "cell_type": "code",
      "source": [
        "#Numero de filme com idioma X\n",
        "a = df_movies.original_language.value_counts().sort_values(ascending=False).head(10)\n",
        "a.plot(kind=\"bar\",\n",
        "      title=\"Quantidade de filmes por Idioma\",\n",
        "      fontsize =10,\n",
        "      legend= True,\n",
        "      colormap= \"spring\")\n",
        "print()"
      ],
      "execution_count": 0,
      "outputs": [
        {
          "output_type": "stream",
          "text": [
            "\n"
          ],
          "name": "stdout"
        },
        {
          "output_type": "display_data",
          "data": {
            "image/png": "[encoded data removed]",
            "text/plain": [
              "<Figure size 576x396 with 1 Axes>"
            ]
          },
          "metadata": {
            "tags": []
          }
        }
      ]
    },
    {
      "metadata": {
        "id": "LjO1FbGKROB9",
        "colab_type": "code",
        "outputId": "34a07a37-4faf-48aa-ec71-cb94b3fdf6ee",
        "colab": {
          "base_uri": "https://localhost:8080/",
          "height": 580
        }
      },
      "cell_type": "code",
      "source": [
        "a = df_movies.groupby('original_title').revenue.sum().sort_values(ascending=False).head(10)\n",
        "a.plot(kind=\"bar\",\n",
        "      title=\"Filmes com mais receitas\",\n",
        "      fontsize =10,\n",
        "      legend= True,\n",
        "      colormap= \"spring\")\n",
        "print()"
      ],
      "execution_count": 0,
      "outputs": [
        {
          "output_type": "stream",
          "text": [
            "\n"
          ],
          "name": "stdout"
        },
        {
          "output_type": "display_data",
          "data": {
            "image/png": "[encoded data removed]",
            "text/plain": [
              "<Figure size 576x396 with 1 Axes>"
            ]
          },
          "metadata": {
            "tags": []
          }
        }
      ]
    },
    {
      "metadata": {
        "id": "JmbsqzrAEfdg",
        "colab_type": "code",
        "outputId": "7884cb23-29f4-40a6-9889-f906b64e479e",
        "colab": {
          "base_uri": "https://localhost:8080/",
          "height": 490
        }
      },
      "cell_type": "code",
      "source": [
        "a = df_movies.groupby('original_title').vote_count.sum().sort_values(ascending=False).head(10)\n",
        "a.plot(kind=\"bar\",\n",
        "      title=\"Filmes com mais votações\",\n",
        "      fontsize =10,\n",
        "      legend= True,\n",
        "      colormap= \"spring\")\n",
        "print()"
      ],
      "execution_count": 0,
      "outputs": [
        {
          "output_type": "stream",
          "text": [
            "\n"
          ],
          "name": "stdout"
        },
        {
          "output_type": "display_data",
          "data": {
            "image/png": "[encoded data removed]",
            "text/plain": [
              "<Figure size 576x396 with 1 Axes>"
            ]
          },
          "metadata": {
            "tags": []
          }
        }
      ]
    },
    {
      "metadata": {
        "id": "0l1tnDWd2bAr",
        "colab_type": "code",
        "outputId": "b95aefe7-49d2-433a-d05a-b0616f329e93",
        "colab": {
          "base_uri": "https://localhost:8080/",
          "height": 376
        }
      },
      "cell_type": "code",
      "source": [
        "a= df_movies.groupby('vote_average').vote_count.sum()\n",
        "plt.title(\"Popularidade / Budget\")\n",
        "plt.xlabel(\"budget\")\n",
        "plt.ylabel(\"popularity\")\n",
        "plt.grid()\n",
        "plt.plot(a, '.', color=\"g\")\n",
        "plt.show()"
      ],
      "execution_count": 0,
      "outputs": [
        {
          "output_type": "display_data",
          "data": {
            "image/png": "[encoded data removed]",
            "text/plain": [
              "<Figure size 576x396 with 1 Axes>"
            ]
          },
          "metadata": {
            "tags": []
          }
        }
      ]
    },
    {
      "metadata": {
        "id": "MkxkWKB1Elnl",
        "colab_type": "code",
        "outputId": "e5de1fa8-7c8d-41a1-fd9c-5120937341f0",
        "colab": {
          "base_uri": "https://localhost:8080/",
          "height": 1071
        }
      },
      "cell_type": "code",
      "source": [
        "#Seleção das colunas que interessam para o nosso estudo\n",
        "\n",
        "df_final=df_movies[['id','original_title','genres','original_language','popularity','budget','revenue', 'vote_average', 'vote_count']]\n",
        "\n",
        "#Transformar uma coluna tipo str em int e criar uma nova coluna\n",
        "new_pop=pd.to_numeric(df_final.popularity, errors='coerce')\n",
        "df_final['popularity']=new_pop\n",
        "new_pop"
      ],
      "execution_count": 0,
      "outputs": [
        {
          "output_type": "execute_result",
          "data": {
            "text/plain": [
              "0        21.946943\n",
              "1        17.015539\n",
              "2        11.712900\n",
              "3         3.859495\n",
              "4         8.387519\n",
              "5        17.924927\n",
              "6         6.677277\n",
              "7         2.561161\n",
              "8         5.231580\n",
              "9        14.686036\n",
              "10        6.318445\n",
              "11        5.430331\n",
              "12       12.140733\n",
              "13        5.092000\n",
              "14        7.284477\n",
              "15       10.137389\n",
              "16       10.673167\n",
              "17        9.026586\n",
              "18        8.205448\n",
              "19        7.337906\n",
              "20       12.669608\n",
              "21       10.701801\n",
              "22       11.065939\n",
              "23       12.133094\n",
              "24       10.332025\n",
              "25        1.845899\n",
              "26        8.681325\n",
              "27        2.228434\n",
              "28        9.822423\n",
              "29        1.100915\n",
              "           ...    \n",
              "45436     1.270832\n",
              "45437    20.821780\n",
              "45438     0.590087\n",
              "45439     0.143223\n",
              "45440     0.767762\n",
              "45441     4.392389\n",
              "45442     0.219260\n",
              "45443     1.618458\n",
              "45444     0.208349\n",
              "45445     0.148131\n",
              "45446     0.725084\n",
              "45447     0.213973\n",
              "45448     0.071782\n",
              "45449     2.568495\n",
              "45450     1.109068\n",
              "45451     0.225432\n",
              "45452     0.011025\n",
              "45453     1.559596\n",
              "45454     0.139936\n",
              "45455     0.225051\n",
              "45456     0.222814\n",
              "45457     0.076061\n",
              "45458     0.386450\n",
              "45459     0.661558\n",
              "45460     5.683753\n",
              "45461     0.072051\n",
              "45462     0.178241\n",
              "45463     0.903007\n",
              "45464     0.003503\n",
              "45465     0.163015\n",
              "Name: popularity, Length: 45449, dtype: float64"
            ]
          },
          "metadata": {
            "tags": []
          },
          "execution_count": 35
        }
      ]
    },
    {
      "metadata": {
        "id": "0RTtoh3aCMFU",
        "colab_type": "code",
        "outputId": "6b05e894-72c0-4bac-c158-2eab0034cfbe",
        "colab": {
          "base_uri": "https://localhost:8080/",
          "height": 1071
        }
      },
      "cell_type": "code",
      "source": [
        "#Transformar uma coluna tipo str em int e criar uma nova coluna\n",
        "new_bud=pd.to_numeric(df_final.budget, errors='coerce')\n",
        "df_final['budget']=new_bud\n",
        "new_bud"
      ],
      "execution_count": 0,
      "outputs": [
        {
          "output_type": "execute_result",
          "data": {
            "text/plain": [
              "0        30000000\n",
              "1        65000000\n",
              "2               0\n",
              "3        16000000\n",
              "4               0\n",
              "5        60000000\n",
              "6        58000000\n",
              "7               0\n",
              "8        35000000\n",
              "9        58000000\n",
              "10       62000000\n",
              "11              0\n",
              "12              0\n",
              "13       44000000\n",
              "14       98000000\n",
              "15       52000000\n",
              "16       16500000\n",
              "17        4000000\n",
              "18       30000000\n",
              "19       60000000\n",
              "20       30250000\n",
              "21              0\n",
              "22       50000000\n",
              "23              0\n",
              "24        3600000\n",
              "25              0\n",
              "26       12000000\n",
              "27              0\n",
              "28       18000000\n",
              "29              0\n",
              "           ...   \n",
              "45436           0\n",
              "45437           0\n",
              "45438           0\n",
              "45439           0\n",
              "45440           0\n",
              "45441           0\n",
              "45442           0\n",
              "45443           0\n",
              "45444           0\n",
              "45445           0\n",
              "45446           0\n",
              "45447           0\n",
              "45448           0\n",
              "45449           0\n",
              "45450           0\n",
              "45451           0\n",
              "45452           0\n",
              "45453           0\n",
              "45454           0\n",
              "45455           0\n",
              "45456           0\n",
              "45457           0\n",
              "45458           0\n",
              "45459           0\n",
              "45460           0\n",
              "45461           0\n",
              "45462           0\n",
              "45463           0\n",
              "45464           0\n",
              "45465           0\n",
              "Name: budget, Length: 45449, dtype: int64"
            ]
          },
          "metadata": {
            "tags": []
          },
          "execution_count": 36
        }
      ]
    },
    {
      "metadata": {
        "id": "tLPilcQdEprv",
        "colab_type": "code",
        "outputId": "104ab9ef-f7be-4bd1-b373-6d277d34c515",
        "colab": {
          "base_uri": "https://localhost:8080/",
          "height": 170
        }
      },
      "cell_type": "code",
      "source": [
        "#Tipo de colunas presente no dataset\n",
        "df=df_final.drop(columns=['id'])\n",
        "df.dtypes"
      ],
      "execution_count": 0,
      "outputs": [
        {
          "output_type": "execute_result",
          "data": {
            "text/plain": [
              "original_title        object\n",
              "genres                object\n",
              "original_language     object\n",
              "popularity           float64\n",
              "budget                 int64\n",
              "revenue              float64\n",
              "vote_average         float64\n",
              "vote_count           float64\n",
              "dtype: object"
            ]
          },
          "metadata": {
            "tags": []
          },
          "execution_count": 37
        }
      ]
    },
    {
      "metadata": {
        "id": "Lory89clJ8y9",
        "colab_type": "code",
        "outputId": "ae7a4e3b-4e42-4429-a592-cf201f48d85b",
        "colab": {
          "base_uri": "https://localhost:8080/",
          "height": 578
        }
      },
      "cell_type": "code",
      "source": [
        "a = df.groupby('original_title').budget.sum().sort_values(ascending=False).head(10)\n",
        "a.plot(kind=\"bar\",\n",
        "      title=\"Filmes com maior orçamento\",\n",
        "      fontsize =10,\n",
        "      legend= True,\n",
        "      colormap= \"spring\")\n",
        "print()"
      ],
      "execution_count": 0,
      "outputs": [
        {
          "output_type": "stream",
          "text": [
            "\n"
          ],
          "name": "stdout"
        },
        {
          "output_type": "display_data",
          "data": {
            "image/png": "[encoded data removed]",
            "text/plain": [
              "<Figure size 576x396 with 1 Axes>"
            ]
          },
          "metadata": {
            "tags": []
          }
        }
      ]
    },
    {
      "metadata": {
        "id": "wSyFaQ5UFLf0",
        "colab_type": "code",
        "outputId": "0ec75bfd-e703-469e-aac2-edb57215284b",
        "colab": {
          "base_uri": "https://localhost:8080/",
          "height": 682
        }
      },
      "cell_type": "code",
      "source": [
        "#Mostra os primeiras 10 linhas do dataset\n",
        "df.head(10)"
      ],
      "execution_count": 0,
      "outputs": [
        {
          "output_type": "execute_result",
          "data": {
            "text/html": [
              "<div>\n",
              "<style scoped>\n",
              "    .dataframe tbody tr th:only-of-type {\n",
              "        vertical-align: middle;\n",
              "    }\n",
              "\n",
              "    .dataframe tbody tr th {\n",
              "        vertical-align: top;\n",
              "    }\n",
              "\n",
              "    .dataframe thead th {\n",
              "        text-align: right;\n",
              "    }\n",
              "</style>\n",
              "<table border=\"1\" class=\"dataframe\">\n",
              "  <thead>\n",
              "    <tr style=\"text-align: right;\">\n",
              "      <th></th>\n",
              "      <th>original_title</th>\n",
              "      <th>genres</th>\n",
              "      <th>original_language</th>\n",
              "      <th>popularity</th>\n",
              "      <th>budget</th>\n",
              "      <th>revenue</th>\n",
              "      <th>vote_average</th>\n",
              "      <th>vote_count</th>\n",
              "    </tr>\n",
              "  </thead>\n",
              "  <tbody>\n",
              "    <tr>\n",
              "      <th>0</th>\n",
              "      <td>Toy Story</td>\n",
              "      <td>[{'id': 16, 'name': 'Animation'}, {'id': 35, '...</td>\n",
              "      <td>en</td>\n",
              "      <td>21.946943</td>\n",
              "      <td>30000000</td>\n",
              "      <td>373554033.0</td>\n",
              "      <td>7.7</td>\n",
              "      <td>5415.0</td>\n",
              "    </tr>\n",
              "    <tr>\n",
              "      <th>1</th>\n",
              "      <td>Jumanji</td>\n",
              "      <td>[{'id': 12, 'name': 'Adventure'}, {'id': 14, '...</td>\n",
              "      <td>en</td>\n",
              "      <td>17.015539</td>\n",
              "      <td>65000000</td>\n",
              "      <td>262797249.0</td>\n",
              "      <td>6.9</td>\n",
              "      <td>2413.0</td>\n",
              "    </tr>\n",
              "    <tr>\n",
              "      <th>2</th>\n",
              "      <td>Grumpier Old Men</td>\n",
              "      <td>[{'id': 10749, 'name': 'Romance'}, {'id': 35, ...</td>\n",
              "      <td>en</td>\n",
              "      <td>11.712900</td>\n",
              "      <td>0</td>\n",
              "      <td>0.0</td>\n",
              "      <td>6.5</td>\n",
              "      <td>92.0</td>\n",
              "    </tr>\n",
              "    <tr>\n",
              "      <th>3</th>\n",
              "      <td>Waiting to Exhale</td>\n",
              "      <td>[{'id': 35, 'name': 'Comedy'}, {'id': 18, 'nam...</td>\n",
              "      <td>en</td>\n",
              "      <td>3.859495</td>\n",
              "      <td>16000000</td>\n",
              "      <td>81452156.0</td>\n",
              "      <td>6.1</td>\n",
              "      <td>34.0</td>\n",
              "    </tr>\n",
              "    <tr>\n",
              "      <th>4</th>\n",
              "      <td>Father of the Bride Part II</td>\n",
              "      <td>[{'id': 35, 'name': 'Comedy'}]</td>\n",
              "      <td>en</td>\n",
              "      <td>8.387519</td>\n",
              "      <td>0</td>\n",
              "      <td>76578911.0</td>\n",
              "      <td>5.7</td>\n",
              "      <td>173.0</td>\n",
              "    </tr>\n",
              "    <tr>\n",
              "      <th>5</th>\n",
              "      <td>Heat</td>\n",
              "      <td>[{'id': 28, 'name': 'Action'}, {'id': 80, 'nam...</td>\n",
              "      <td>en</td>\n",
              "      <td>17.924927</td>\n",
              "      <td>60000000</td>\n",
              "      <td>187436818.0</td>\n",
              "      <td>7.7</td>\n",
              "      <td>1886.0</td>\n",
              "    </tr>\n",
              "    <tr>\n",
              "      <th>6</th>\n",
              "      <td>Sabrina</td>\n",
              "      <td>[{'id': 35, 'name': 'Comedy'}, {'id': 10749, '...</td>\n",
              "      <td>en</td>\n",
              "      <td>6.677277</td>\n",
              "      <td>58000000</td>\n",
              "      <td>0.0</td>\n",
              "      <td>6.2</td>\n",
              "      <td>141.0</td>\n",
              "    </tr>\n",
              "    <tr>\n",
              "      <th>7</th>\n",
              "      <td>Tom and Huck</td>\n",
              "      <td>[{'id': 28, 'name': 'Action'}, {'id': 12, 'nam...</td>\n",
              "      <td>en</td>\n",
              "      <td>2.561161</td>\n",
              "      <td>0</td>\n",
              "      <td>0.0</td>\n",
              "      <td>5.4</td>\n",
              "      <td>45.0</td>\n",
              "    </tr>\n",
              "    <tr>\n",
              "      <th>8</th>\n",
              "      <td>Sudden Death</td>\n",
              "      <td>[{'id': 28, 'name': 'Action'}, {'id': 12, 'nam...</td>\n",
              "      <td>en</td>\n",
              "      <td>5.231580</td>\n",
              "      <td>35000000</td>\n",
              "      <td>64350171.0</td>\n",
              "      <td>5.5</td>\n",
              "      <td>174.0</td>\n",
              "    </tr>\n",
              "    <tr>\n",
              "      <th>9</th>\n",
              "      <td>GoldenEye</td>\n",
              "      <td>[{'id': 12, 'name': 'Adventure'}, {'id': 28, '...</td>\n",
              "      <td>en</td>\n",
              "      <td>14.686036</td>\n",
              "      <td>58000000</td>\n",
              "      <td>352194034.0</td>\n",
              "      <td>6.6</td>\n",
              "      <td>1194.0</td>\n",
              "    </tr>\n",
              "  </tbody>\n",
              "</table>\n",
              "</div>"
            ],
            "text/plain": [
              "                original_title  \\\n",
              "0                    Toy Story   \n",
              "1                      Jumanji   \n",
              "2             Grumpier Old Men   \n",
              "3            Waiting to Exhale   \n",
              "4  Father of the Bride Part II   \n",
              "5                         Heat   \n",
              "6                      Sabrina   \n",
              "7                 Tom and Huck   \n",
              "8                 Sudden Death   \n",
              "9                    GoldenEye   \n",
              "\n",
              "                                              genres original_language  \\\n",
              "0  [{'id': 16, 'name': 'Animation'}, {'id': 35, '...                en   \n",
              "1  [{'id': 12, 'name': 'Adventure'}, {'id': 14, '...                en   \n",
              "2  [{'id': 10749, 'name': 'Romance'}, {'id': 35, ...                en   \n",
              "3  [{'id': 35, 'name': 'Comedy'}, {'id': 18, 'nam...                en   \n",
              "4                     [{'id': 35, 'name': 'Comedy'}]                en   \n",
              "5  [{'id': 28, 'name': 'Action'}, {'id': 80, 'nam...                en   \n",
              "6  [{'id': 35, 'name': 'Comedy'}, {'id': 10749, '...                en   \n",
              "7  [{'id': 28, 'name': 'Action'}, {'id': 12, 'nam...                en   \n",
              "8  [{'id': 28, 'name': 'Action'}, {'id': 12, 'nam...                en   \n",
              "9  [{'id': 12, 'name': 'Adventure'}, {'id': 28, '...                en   \n",
              "\n",
              "   popularity    budget      revenue  vote_average  vote_count  \n",
              "0   21.946943  30000000  373554033.0           7.7      5415.0  \n",
              "1   17.015539  65000000  262797249.0           6.9      2413.0  \n",
              "2   11.712900         0          0.0           6.5        92.0  \n",
              "3    3.859495  16000000   81452156.0           6.1        34.0  \n",
              "4    8.387519         0   76578911.0           5.7       173.0  \n",
              "5   17.924927  60000000  187436818.0           7.7      1886.0  \n",
              "6    6.677277  58000000          0.0           6.2       141.0  \n",
              "7    2.561161         0          0.0           5.4        45.0  \n",
              "8    5.231580  35000000   64350171.0           5.5       174.0  \n",
              "9   14.686036  58000000  352194034.0           6.6      1194.0  "
            ]
          },
          "metadata": {
            "tags": []
          },
          "execution_count": 39
        }
      ]
    },
    {
      "metadata": {
        "id": "4xEvNdHwdJ00",
        "colab_type": "text"
      },
      "cell_type": "markdown",
      "source": [
        "## Catalogação do dataset"
      ]
    },
    {
      "metadata": {
        "id": "YqXbewXkdaN8",
        "colab_type": "text"
      },
      "cell_type": "markdown",
      "source": [
        "### Tamanho\n"
      ]
    },
    {
      "metadata": {
        "id": "UylRvtj3b5TU",
        "colab_type": "code",
        "outputId": "df50d556-eedd-4287-9ae3-e188c4db3d3b",
        "colab": {
          "base_uri": "https://localhost:8080/",
          "height": 51
        }
      },
      "cell_type": "code",
      "source": [
        "#Tamanho\n",
        "print('Tamnho Dataset: ')\n",
        "df.shape"
      ],
      "execution_count": 0,
      "outputs": [
        {
          "output_type": "stream",
          "text": [
            "Tamnho Dataset: \n"
          ],
          "name": "stdout"
        },
        {
          "output_type": "execute_result",
          "data": {
            "text/plain": [
              "(45449, 8)"
            ]
          },
          "metadata": {
            "tags": []
          },
          "execution_count": 40
        }
      ]
    },
    {
      "metadata": {
        "id": "8SFzWreVdpOz",
        "colab_type": "text"
      },
      "cell_type": "markdown",
      "source": [
        "### Resolução\n",
        "\n",
        "\n",
        "*   id: unique/int\n",
        "*   original_title: Título original do filme\n",
        "*   budget: (float)Custo da produção do filme\n",
        "*   genres: Genero que do filme\n",
        "*   original_language: Lingualgem\n",
        "*   popularity: Popularidade do filme\n",
        "*   revenue:(float) Ganhos de impresa com o filme, exemplo *merchandise* e serviços ao cliente\n",
        "*   vote_average: Média de votos por \n",
        "\n",
        "\n"
      ]
    },
    {
      "metadata": {
        "id": "hND9j0vUdguS",
        "colab_type": "text"
      },
      "cell_type": "markdown",
      "source": [
        "### Dimensionalidade/Esparcidade\n"
      ]
    },
    {
      "metadata": {
        "id": "k-ka63moSiJc",
        "colab_type": "code",
        "outputId": "03abb2fc-a3ab-4e74-ed75-c9fff7b42e34",
        "colab": {
          "base_uri": "https://localhost:8080/",
          "height": 340
        }
      },
      "cell_type": "code",
      "source": [
        "#Dimensionalidade\n",
        "print('Dimensionalidade do dataset: ' + str(len(df.columns)) + ' colunas\\n')\n",
        "\n",
        "#Esparsidade\n",
        "print('Esparsidade de cada coluna do dataset:')\n",
        "ts = pd.Series(np.random.randn(10))\n",
        "ts[2:-2] = np.nan\n",
        "sts = ts.to_sparse()\n",
        "print(sts)\n",
        "print('\\n')"
      ],
      "execution_count": 0,
      "outputs": [
        {
          "output_type": "stream",
          "text": [
            "Dimensionalidade do dataset: 8 colunas\n",
            "\n",
            "Esparsidade de cada coluna do dataset:\n",
            "0    1.858361\n",
            "1    0.660931\n",
            "2         NaN\n",
            "3         NaN\n",
            "4         NaN\n",
            "5         NaN\n",
            "6         NaN\n",
            "7         NaN\n",
            "8   -0.266248\n",
            "9    1.600999\n",
            "dtype: float64\n",
            "BlockIndex\n",
            "Block locations: array([0, 8], dtype=int32)\n",
            "Block lengths: array([2, 2], dtype=int32)\n",
            "\n",
            "\n"
          ],
          "name": "stdout"
        }
      ]
    },
    {
      "metadata": {
        "id": "DGVQl7QkDVJR",
        "colab_type": "text"
      },
      "cell_type": "markdown",
      "source": [
        "### Valores Médios\n"
      ]
    },
    {
      "metadata": {
        "id": "XQAhChIfuG3j",
        "colab_type": "text"
      },
      "cell_type": "markdown",
      "source": [
        ""
      ]
    },
    {
      "metadata": {
        "id": "bJL9dFruGMsY",
        "colab_type": "code",
        "outputId": "53cd6632-35e3-4dc5-f9ef-51ecab01e227",
        "colab": {
          "base_uri": "https://localhost:8080/",
          "height": 527
        }
      },
      "cell_type": "code",
      "source": [
        "#Estatisticas da label/target\n",
        "display(df.describe())\n",
        "print('\\nEstatisticas')\n",
        "df.agg(['min','max','mean'])\n",
        "\n"
      ],
      "execution_count": 0,
      "outputs": [
        {
          "output_type": "display_data",
          "data": {
            "text/html": [
              "<div>\n",
              "<style scoped>\n",
              "    .dataframe tbody tr th:only-of-type {\n",
              "        vertical-align: middle;\n",
              "    }\n",
              "\n",
              "    .dataframe tbody tr th {\n",
              "        vertical-align: top;\n",
              "    }\n",
              "\n",
              "    .dataframe thead th {\n",
              "        text-align: right;\n",
              "    }\n",
              "</style>\n",
              "<table border=\"1\" class=\"dataframe\">\n",
              "  <thead>\n",
              "    <tr style=\"text-align: right;\">\n",
              "      <th></th>\n",
              "      <th>popularity</th>\n",
              "      <th>budget</th>\n",
              "      <th>revenue</th>\n",
              "      <th>vote_average</th>\n",
              "      <th>vote_count</th>\n",
              "    </tr>\n",
              "  </thead>\n",
              "  <tbody>\n",
              "    <tr>\n",
              "      <th>count</th>\n",
              "      <td>45449.000000</td>\n",
              "      <td>4.544900e+04</td>\n",
              "      <td>4.544900e+04</td>\n",
              "      <td>45449.000000</td>\n",
              "      <td>45449.000000</td>\n",
              "    </tr>\n",
              "    <tr>\n",
              "      <th>mean</th>\n",
              "      <td>2.922118</td>\n",
              "      <td>4.225880e+06</td>\n",
              "      <td>1.121206e+07</td>\n",
              "      <td>5.618803</td>\n",
              "      <td>109.923101</td>\n",
              "    </tr>\n",
              "    <tr>\n",
              "      <th>std</th>\n",
              "      <td>6.005997</td>\n",
              "      <td>1.742666e+07</td>\n",
              "      <td>6.433980e+07</td>\n",
              "      <td>1.923526</td>\n",
              "      <td>491.367028</td>\n",
              "    </tr>\n",
              "    <tr>\n",
              "      <th>min</th>\n",
              "      <td>0.000000</td>\n",
              "      <td>0.000000e+00</td>\n",
              "      <td>0.000000e+00</td>\n",
              "      <td>0.000000</td>\n",
              "      <td>0.000000</td>\n",
              "    </tr>\n",
              "    <tr>\n",
              "      <th>25%</th>\n",
              "      <td>0.386315</td>\n",
              "      <td>0.000000e+00</td>\n",
              "      <td>0.000000e+00</td>\n",
              "      <td>5.000000</td>\n",
              "      <td>3.000000</td>\n",
              "    </tr>\n",
              "    <tr>\n",
              "      <th>50%</th>\n",
              "      <td>1.128080</td>\n",
              "      <td>0.000000e+00</td>\n",
              "      <td>0.000000e+00</td>\n",
              "      <td>6.000000</td>\n",
              "      <td>10.000000</td>\n",
              "    </tr>\n",
              "    <tr>\n",
              "      <th>75%</th>\n",
              "      <td>3.679700</td>\n",
              "      <td>0.000000e+00</td>\n",
              "      <td>0.000000e+00</td>\n",
              "      <td>6.800000</td>\n",
              "      <td>34.000000</td>\n",
              "    </tr>\n",
              "    <tr>\n",
              "      <th>max</th>\n",
              "      <td>547.488298</td>\n",
              "      <td>3.800000e+08</td>\n",
              "      <td>2.787965e+09</td>\n",
              "      <td>10.000000</td>\n",
              "      <td>14075.000000</td>\n",
              "    </tr>\n",
              "  </tbody>\n",
              "</table>\n",
              "</div>"
            ],
            "text/plain": [
              "         popularity        budget       revenue  vote_average    vote_count\n",
              "count  45449.000000  4.544900e+04  4.544900e+04  45449.000000  45449.000000\n",
              "mean       2.922118  4.225880e+06  1.121206e+07      5.618803    109.923101\n",
              "std        6.005997  1.742666e+07  6.433980e+07      1.923526    491.367028\n",
              "min        0.000000  0.000000e+00  0.000000e+00      0.000000      0.000000\n",
              "25%        0.386315  0.000000e+00  0.000000e+00      5.000000      3.000000\n",
              "50%        1.128080  0.000000e+00  0.000000e+00      6.000000     10.000000\n",
              "75%        3.679700  0.000000e+00  0.000000e+00      6.800000     34.000000\n",
              "max      547.488298  3.800000e+08  2.787965e+09     10.000000  14075.000000"
            ]
          },
          "metadata": {
            "tags": []
          }
        },
        {
          "output_type": "stream",
          "text": [
            "\n",
            "Estatisticas\n"
          ],
          "name": "stdout"
        },
        {
          "output_type": "execute_result",
          "data": {
            "text/html": [
              "<div>\n",
              "<style scoped>\n",
              "    .dataframe tbody tr th:only-of-type {\n",
              "        vertical-align: middle;\n",
              "    }\n",
              "\n",
              "    .dataframe tbody tr th {\n",
              "        vertical-align: top;\n",
              "    }\n",
              "\n",
              "    .dataframe thead th {\n",
              "        text-align: right;\n",
              "    }\n",
              "</style>\n",
              "<table border=\"1\" class=\"dataframe\">\n",
              "  <thead>\n",
              "    <tr style=\"text-align: right;\">\n",
              "      <th></th>\n",
              "      <th>original_title</th>\n",
              "      <th>genres</th>\n",
              "      <th>original_language</th>\n",
              "      <th>popularity</th>\n",
              "      <th>budget</th>\n",
              "      <th>revenue</th>\n",
              "      <th>vote_average</th>\n",
              "      <th>vote_count</th>\n",
              "    </tr>\n",
              "  </thead>\n",
              "  <tbody>\n",
              "    <tr>\n",
              "      <th>max</th>\n",
              "      <td>ＳＭガールズ セイバーマリオネットＲ</td>\n",
              "      <td>[{'id': 99, 'name': 'Documentary'}]</td>\n",
              "      <td>zu</td>\n",
              "      <td>547.488298</td>\n",
              "      <td>3.800000e+08</td>\n",
              "      <td>2.787965e+09</td>\n",
              "      <td>10.000000</td>\n",
              "      <td>14075.000000</td>\n",
              "    </tr>\n",
              "    <tr>\n",
              "      <th>mean</th>\n",
              "      <td>NaN</td>\n",
              "      <td>NaN</td>\n",
              "      <td>NaN</td>\n",
              "      <td>2.922118</td>\n",
              "      <td>4.225880e+06</td>\n",
              "      <td>1.121206e+07</td>\n",
              "      <td>5.618803</td>\n",
              "      <td>109.923101</td>\n",
              "    </tr>\n",
              "    <tr>\n",
              "      <th>min</th>\n",
              "      <td>!Women Art Revolution</td>\n",
              "      <td>[]</td>\n",
              "      <td>ab</td>\n",
              "      <td>0.000000</td>\n",
              "      <td>0.000000e+00</td>\n",
              "      <td>0.000000e+00</td>\n",
              "      <td>0.000000</td>\n",
              "      <td>0.000000</td>\n",
              "    </tr>\n",
              "  </tbody>\n",
              "</table>\n",
              "</div>"
            ],
            "text/plain": [
              "             original_title                               genres  \\\n",
              "max      ＳＭガールズ セイバーマリオネットＲ  [{'id': 99, 'name': 'Documentary'}]   \n",
              "mean                    NaN                                  NaN   \n",
              "min   !Women Art Revolution                                   []   \n",
              "\n",
              "     original_language  popularity        budget       revenue  vote_average  \\\n",
              "max                 zu  547.488298  3.800000e+08  2.787965e+09     10.000000   \n",
              "mean               NaN    2.922118  4.225880e+06  1.121206e+07      5.618803   \n",
              "min                 ab    0.000000  0.000000e+00  0.000000e+00      0.000000   \n",
              "\n",
              "        vote_count  \n",
              "max   14075.000000  \n",
              "mean    109.923101  \n",
              "min       0.000000  "
            ]
          },
          "metadata": {
            "tags": []
          },
          "execution_count": 42
        }
      ]
    },
    {
      "metadata": {
        "id": "vHlcGbefLUEn",
        "colab_type": "text"
      },
      "cell_type": "markdown",
      "source": [
        "### Termos estatísticos Label/Target \n",
        "\n",
        "Sendo o nosso Target o rating dos filmes, podemos observar e concluir que em média os filmes tem uma classificação de 3.543608 de 0 a 5. A classificação mais alta dada a um filme foi de 5, e a menor classificação é de 0.500000.\n",
        "\n",
        "O nosso target será chegar a uma previsão do rating dos filmes consoante as features utilizadas.\n",
        "Isto é com o conhecimento do rating de outros filmes tentar prever o de um futuro filme.\n",
        "A popularidade de um filme vai definir bastante o seu rating tal como a sua produção, com os dados sobre outros filmes conseguimos agrupar varias informações sobre os mesmos, o que nos levará a previsão. "
      ]
    },
    {
      "metadata": {
        "id": "mZmBlxopNSeH",
        "colab_type": "code",
        "outputId": "c7d6cfac-ed73-4053-e2cf-d4695d43b7a3",
        "colab": {
          "base_uri": "https://localhost:8080/",
          "height": 466
        }
      },
      "cell_type": "code",
      "source": [
        "#Histograma relativo ao rating\n",
        "sns.countplot(df['vote_average'])\n",
        "\n",
        "print('\\n Este gráfico representa a contagem de média de votos \\n')"
      ],
      "execution_count": 0,
      "outputs": [
        {
          "output_type": "stream",
          "text": [
            "/usr/local/lib/python3.6/dist-packages/seaborn/categorical.py:1428: FutureWarning: remove_na is deprecated and is a private function. Do not use.\n",
            "  stat_data = remove_na(group_data)\n"
          ],
          "name": "stderr"
        },
        {
          "output_type": "stream",
          "text": [
            "\n",
            " Este gráfico representa a contagem de média de votos \n",
            "\n"
          ],
          "name": "stdout"
        },
        {
          "output_type": "display_data",
          "data": {
            "image/png": "[encoded data removed]",
            "text/plain": [
              "<Figure size 576x396 with 1 Axes>"
            ]
          },
          "metadata": {
            "tags": []
          }
        }
      ]
    },
    {
      "metadata": {
        "id": "OfVcU3yNDeny",
        "colab_type": "text"
      },
      "cell_type": "markdown",
      "source": [
        "### Tipos das features\n",
        "\n",
        "* id: Discreto \n",
        "* original_title: Qualitativo\n",
        "* budget: Continuo\n",
        "* genres: Qualitativo\n",
        "* original_language: Qualitativo\n",
        "* popularity: Continuo\n",
        "* revenue: Continuo\n",
        "* vote_average: Continuo\n",
        "* vote_count: Continuo"
      ]
    },
    {
      "metadata": {
        "id": "JH4twscVD3fq",
        "colab_type": "text"
      },
      "cell_type": "markdown",
      "source": [
        "### Análise NaN's\n",
        "\n",
        "Como podemos verificar em baixo não existem NaN's nas nossas features. Isto devesse ao tratamento dos dados feita anteriormente pela seguinte linha de código \"df_movies = df_movies.dropna()\".\n",
        "Isto foi feito para que os dados sejam mais claros e tenham mais significado."
      ]
    },
    {
      "metadata": {
        "id": "dLxFr7iID3tl",
        "colab_type": "code",
        "outputId": "2930bdf7-602e-4a78-9500-ae66c79e41ff",
        "colab": {
          "base_uri": "https://localhost:8080/",
          "height": 170
        }
      },
      "cell_type": "code",
      "source": [
        "#Verificar se há colunas a NULL\n",
        "df.isna().any()"
      ],
      "execution_count": 0,
      "outputs": [
        {
          "output_type": "execute_result",
          "data": {
            "text/plain": [
              "original_title       False\n",
              "genres               False\n",
              "original_language    False\n",
              "popularity           False\n",
              "budget               False\n",
              "revenue              False\n",
              "vote_average         False\n",
              "vote_count           False\n",
              "dtype: bool"
            ]
          },
          "metadata": {
            "tags": []
          },
          "execution_count": 47
        }
      ]
    },
    {
      "metadata": {
        "id": "odCwAMoZcgz7",
        "colab_type": "text"
      },
      "cell_type": "markdown",
      "source": [
        "### Quais as features em termos do problema que não fazem sentido\n",
        "\n",
        "Depois de uma análise a todas as features chegámos á concordância de que algumas teriam de ser rejeitadas com o fim de facilitar o nosso modelo e torná-lo mais prático.\n",
        "Segue a listagem das features rejeitadas:\n",
        "\n",
        "* *imdbId* -Id do imdb do filme;\n",
        "* *tmdbId* - Id de tmdb do filme; \n",
        "* *adult*- feature binário do filme ser para maiores de 18, ou não;\n",
        "* *belongs_to_collection* - nome da coleção do filme, se este fizer parte de uma coleção;\n",
        "* *homepage* - url do site do filme;\n",
        "* *imdb_Id* - Id do imdb do filme;\n",
        "* *overview* - Pequeno resumo do plot do filme;\n",
        "* *poster_path* - Imagem do poster do filme;\n",
        "* *production_companies* - Companhias de produção;\n",
        "* *production_countries* - Países de produção;\n",
        "* *release*-date - Data de lançamento do filme;\n",
        "* *runtime* - Tempo de filme\n",
        "* *spoken_languages* - Todas as línguas faladas no filme;\n",
        "* *status* - Estado do filme, se já foi lançado ou não;\n",
        "* *title* - Titúlo em Inglês;\n",
        "* *tagline* - O filme em poucas palavras;\n",
        "* *video *- boolean;"
      ]
    },
    {
      "metadata": {
        "id": "tfBLhCG7fhRk",
        "colab_type": "text"
      },
      "cell_type": "markdown",
      "source": [
        "### Features que poderia utilizar para enriquecer a informação do problema\n",
        "\n",
        "Outros features que pensamos que nos podiam ajudar no modelo seriam:\n",
        "\n",
        "* Atores principais e atores secundários - Uma listagem dos atores principais e secundários juntamente com o seu ID\n",
        "para que possamos comparar os filmes em que estes estão presentes e relacioná-los com a classificação do filme;\n",
        "\n",
        "* Total de awards individuas - O número total de prémios ganhos por todos os que contribuiram para a produção\n",
        "do filme;\n",
        "\n",
        "* Diretor - Uma listagem dos diretores dos filmes juntamente com os seus IDs;"
      ]
    },
    {
      "metadata": {
        "id": "2LGUnn59i9zD",
        "colab_type": "text"
      },
      "cell_type": "markdown",
      "source": [
        "###  Encoding ou one hot encoding para features discretas\n",
        "\n",
        "* *original_title* -> sim pois os nomes dos filmes não dependem uns dos outros;\n",
        "* *genres*  -> sim pois os generos dos filmes não dependem uns dos outros;\n",
        "* *original_language*  -> sim uma vez que a linguagens não dependem umas das outras;\n",
        "\n",
        "O resto das Features que foram utilizadas não entram para esta discução porque não são discretas"
      ]
    },
    {
      "metadata": {
        "id": "wDEXq8d0G66H",
        "colab_type": "text"
      },
      "cell_type": "markdown",
      "source": [
        "### Matriz de Correlação entre features\n"
      ]
    },
    {
      "metadata": {
        "id": "CtSX6c5xHCk_",
        "colab_type": "code",
        "outputId": "5b849a88-9f07-467d-a789-1643ee0eae78",
        "colab": {
          "base_uri": "https://localhost:8080/",
          "height": 204
        }
      },
      "cell_type": "code",
      "source": [
        "#Matriz de Correlação entre as features \n",
        "df.corr()"
      ],
      "execution_count": 0,
      "outputs": [
        {
          "output_type": "execute_result",
          "data": {
            "text/html": [
              "<div>\n",
              "<style scoped>\n",
              "    .dataframe tbody tr th:only-of-type {\n",
              "        vertical-align: middle;\n",
              "    }\n",
              "\n",
              "    .dataframe tbody tr th {\n",
              "        vertical-align: top;\n",
              "    }\n",
              "\n",
              "    .dataframe thead th {\n",
              "        text-align: right;\n",
              "    }\n",
              "</style>\n",
              "<table border=\"1\" class=\"dataframe\">\n",
              "  <thead>\n",
              "    <tr style=\"text-align: right;\">\n",
              "      <th></th>\n",
              "      <th>popularity</th>\n",
              "      <th>budget</th>\n",
              "      <th>revenue</th>\n",
              "      <th>vote_average</th>\n",
              "      <th>vote_count</th>\n",
              "    </tr>\n",
              "  </thead>\n",
              "  <tbody>\n",
              "    <tr>\n",
              "      <th>popularity</th>\n",
              "      <td>1.000000</td>\n",
              "      <td>0.449634</td>\n",
              "      <td>0.506174</td>\n",
              "      <td>0.154328</td>\n",
              "      <td>0.559958</td>\n",
              "    </tr>\n",
              "    <tr>\n",
              "      <th>budget</th>\n",
              "      <td>0.449634</td>\n",
              "      <td>1.000000</td>\n",
              "      <td>0.768774</td>\n",
              "      <td>0.073455</td>\n",
              "      <td>0.676638</td>\n",
              "    </tr>\n",
              "    <tr>\n",
              "      <th>revenue</th>\n",
              "      <td>0.506174</td>\n",
              "      <td>0.768774</td>\n",
              "      <td>1.000000</td>\n",
              "      <td>0.083854</td>\n",
              "      <td>0.812020</td>\n",
              "    </tr>\n",
              "    <tr>\n",
              "      <th>vote_average</th>\n",
              "      <td>0.154328</td>\n",
              "      <td>0.073455</td>\n",
              "      <td>0.083854</td>\n",
              "      <td>1.000000</td>\n",
              "      <td>0.123597</td>\n",
              "    </tr>\n",
              "    <tr>\n",
              "      <th>vote_count</th>\n",
              "      <td>0.559958</td>\n",
              "      <td>0.676638</td>\n",
              "      <td>0.812020</td>\n",
              "      <td>0.123597</td>\n",
              "      <td>1.000000</td>\n",
              "    </tr>\n",
              "  </tbody>\n",
              "</table>\n",
              "</div>"
            ],
            "text/plain": [
              "              popularity    budget   revenue  vote_average  vote_count\n",
              "popularity      1.000000  0.449634  0.506174      0.154328    0.559958\n",
              "budget          0.449634  1.000000  0.768774      0.073455    0.676638\n",
              "revenue         0.506174  0.768774  1.000000      0.083854    0.812020\n",
              "vote_average    0.154328  0.073455  0.083854      1.000000    0.123597\n",
              "vote_count      0.559958  0.676638  0.812020      0.123597    1.000000"
            ]
          },
          "metadata": {
            "tags": []
          },
          "execution_count": 48
        }
      ]
    },
    {
      "metadata": {
        "id": "1OxMLmtHdYXT",
        "colab_type": "text"
      },
      "cell_type": "markdown",
      "source": [
        "### Pequena Conclusão\n",
        "\n",
        "O que pretendiamos com o trabalho era apartir das informações que o dataset nos dava, tentar prever o resultado das classificações dos filmes. Depois de alguma discussão e análise de dados vimos quais as features que nos interessavam mais e com isso analisá-mos algumas estatísticas sobre o nosso dataset, como por exemplo os filmes com mais votações e os filmes mais votados.\n",
        "Com estes dados podemos ainda ver a coorelação entre algumas das nossas features, como 'popularity', 'revenue', 'budget', 'vote_average' e 'vote_count'.\n",
        "Infelizmente tivemos alguma dificuldade na execução do trabalho, pois tinhamos como objetivo principal usar mais features e com mais diversidade mas não conseguimos ter muito sucesso."
      ]
    },
    {
      "metadata": {
        "id": "tQUCZqunyhQ8",
        "colab_type": "code",
        "colab": {}
      },
      "cell_type": "code",
      "source": [
        "#spent_byage = df.groupby(by='genres').mean()['Budget']\n",
        "#plt.figure(figsize=(12,6))\n",
        "\n",
        "#sns.barplot(x=spent_byage.index,y=spent_byage.values, palette=\"Blues_d\")\n",
        "#plt.title('')\n",
        "#plt.show()"
      ],
      "execution_count": 0,
      "outputs": []
    },
    {
      "metadata": {
        "id": "iq1Nt1IVqodA",
        "colab_type": "text"
      },
      "cell_type": "markdown",
      "source": [
        "PARTE 2"
      ]
    },
    {
      "metadata": {
        "id": "bnLaZYsbvP63",
        "colab_type": "code",
        "outputId": "52a91baa-6c9e-49c6-ddb6-814a21718299",
        "colab": {
          "base_uri": "https://localhost:8080/",
          "height": 68
        }
      },
      "cell_type": "code",
      "source": [
        "#Decision Tree\n",
        "\n",
        "from sklearn import tree, model_selection\n",
        "from sklearn.model_selection import train_test_split\n",
        "pc = df\n",
        "\n",
        "\n",
        "conversao = pd.factorize(pc['original_title']) \n",
        "pc['original_title'] = conversao[0]\n",
        "conversao = pd.factorize(pc['genres']) \n",
        "pc['genres'] = conversao[0]\n",
        "conversao = pd.factorize(pc['original_language']) \n",
        "pc['original_language'] = conversao[0]\n",
        "conversao = pd.factorize(pc['popularity']) \n",
        "pc['popularity'] = conversao[0]\n",
        "conversao = pd.factorize(pc['revenue']) \n",
        "pc['revenue'] = conversao[0]\n",
        "conversao = pd.factorize(pc['vote_average']) \n",
        "pc['vote_average'] = conversao[0]\n",
        "conversao = pd.factorize(pc['vote_count']) \n",
        "pc['vote_count'] = conversao[0]\n",
        "pc = pc.dropna()\n",
        "\n",
        "pc = pc.loc[pc[\"vote_count\"]>500]\n",
        "\n",
        "conversao = pd.factorize(pc['vote_average']) \n",
        "pc['vote_average'] = conversao[0] \n",
        "\n",
        "y = pc.vote_average\n",
        "\n",
        "x = pc[['original_title', 'genres', 'original_language', 'popularity', 'revenue', 'vote_average','vote_count']] \n",
        "\n",
        "xtrain, xtest, ytrain, ytest = train_test_split(x, y, train_size=0.70 ,test_size=0.30)\n",
        "\n",
        "model = tree.DecisionTreeClassifier()\n",
        "clf = model.fit(xtrain, ytrain)\n",
        "\n",
        "score_train = model.score(xtrain, ytrain)\n",
        "score_test = model.score(xtest, ytest)\n",
        "RMSE = (((score_test-score_train)**2).sum()/score_train)**0.05\n",
        "\n",
        "\n",
        "print(\"score_train: \", score_train)\n",
        "print(\"score_test: \", score_test)\n",
        "print(\"RMSE: \", RMSE)\n",
        "\n"
      ],
      "execution_count": 0,
      "outputs": [
        {
          "output_type": "stream",
          "text": [
            "score_train:  1.0\n",
            "score_test:  0.9955207166853304\n",
            "RMSE:  0.582265225012972\n"
          ],
          "name": "stdout"
        }
      ]
    },
    {
      "metadata": {
        "id": "XJgaqiWoJoYN",
        "colab_type": "text"
      },
      "cell_type": "markdown",
      "source": [
        "### Regressão"
      ]
    },
    {
      "metadata": {
        "id": "iyJWCJ4TI941",
        "colab_type": "code",
        "outputId": "03b7ffe1-61b2-48ba-dac1-67c290db93a8",
        "colab": {
          "base_uri": "https://localhost:8080/",
          "height": 68
        }
      },
      "cell_type": "code",
      "source": [
        "from sklearn.ensemble import RandomForestClassifier\n",
        "from sklearn import tree, model_selection\n",
        "from sklearn.model_selection import train_test_split\n",
        "from sklearn import linear_model\n",
        "import pandas as pd\n",
        "import warnings\n",
        "warnings.filterwarnings(\"ignore\", category=FutureWarning)\n",
        "pc = df\n",
        "\n",
        "\n",
        "conversao = pd.factorize(pc['original_title']) \n",
        "pc['original_title'] = conversao[0]\n",
        "conversao = pd.factorize(pc['genres']) \n",
        "pc['genres'] = conversao[0]\n",
        "conversao = pd.factorize(pc['original_language']) \n",
        "pc['original_language'] = conversao[0]\n",
        "conversao = pd.factorize(pc['popularity']) \n",
        "pc['popularity'] = conversao[0]\n",
        "conversao = pd.factorize(pc['revenue']) \n",
        "pc['revenue'] = conversao[0]\n",
        "conversao = pd.factorize(pc['vote_average']) \n",
        "pc['vote_average'] = conversao[0]\n",
        "conversao = pd.factorize(pc['vote_count']) \n",
        "pc['vote_count'] = conversao[0]\n",
        "pc = pc.dropna()\n",
        "\n",
        "pc = pc.loc[pc[\"vote_count\"]>500]\n",
        "\n",
        "conversao = pd.factorize(pc['vote_average']) \n",
        "pc['vote_average'] = conversao[0] \n",
        "\n",
        "y = pc.vote_average\n",
        "\n",
        "x = pc[['original_title', 'genres', 'original_language', 'popularity', 'revenue', 'vote_average','vote_count']] \n",
        "\n",
        "xtrain, xtest, ytrain, ytest = train_test_split(x, y, train_size=0.70 ,test_size=0.30)\n",
        "\n",
        "logreg = linear_model.LogisticRegression()\n",
        "logreg.fit(xtrain, ytrain)\n",
        "\n",
        "score_train = model.score(xtrain, ytrain)\n",
        "score_test = model.score(xtest, ytest)\n",
        "RMSE = (((score_test-score_train)**2).sum()/score_train)**0.05\n",
        "\n",
        "\n",
        "print(\"score_train: \", score_train)\n",
        "print(\"score_test: \", score_test)\n",
        "print(\"RMSE: \", RMSE)\n",
        "\n"
      ],
      "execution_count": 0,
      "outputs": [
        {
          "output_type": "stream",
          "text": [
            "score_train:  0.9995194617972128\n",
            "score_test:  0.9966405375139977\n",
            "RMSE:  0.5571003888014918\n"
          ],
          "name": "stdout"
        }
      ]
    },
    {
      "metadata": {
        "id": "KpH2KWbwSM28",
        "colab_type": "code",
        "outputId": "6d1858de-d7ef-4c0b-f666-85d8fd24a515",
        "colab": {
          "base_uri": "https://localhost:8080/",
          "height": 455
        }
      },
      "cell_type": "code",
      "source": [
        "from sklearn.metrics import confusion_matrix\n",
        "pc = df\n",
        "y = pc.vote_average\n",
        "\n",
        "x = pc[['original_title', 'genres', 'original_language', 'popularity', 'revenue', 'vote_average','vote_count']] \n",
        "\n",
        "xtrain, xtest, ytrain, ytest = train_test_split(x, y, train_size=0.70 ,test_size=0.30)\n",
        "confusion_matrix(ytrain, xtrain)"
      ],
      "execution_count": 0,
      "outputs": [
        {
          "output_type": "error",
          "ename": "ValueError",
          "evalue": "ignored",
          "traceback": [
            "\u001b[0;31m---------------------------------------------------------------------------\u001b[0m",
            "\u001b[0;31mValueError\u001b[0m                                Traceback (most recent call last)",
            "\u001b[0;32m<ipython-input-52-4eaac7a022de>\u001b[0m in \u001b[0;36m<module>\u001b[0;34m()\u001b[0m\n\u001b[1;32m      6\u001b[0m \u001b[0;34m\u001b[0m\u001b[0m\n\u001b[1;32m      7\u001b[0m \u001b[0mxtrain\u001b[0m\u001b[0;34m,\u001b[0m \u001b[0mxtest\u001b[0m\u001b[0;34m,\u001b[0m \u001b[0mytrain\u001b[0m\u001b[0;34m,\u001b[0m \u001b[0mytest\u001b[0m \u001b[0;34m=\u001b[0m \u001b[0mtrain_test_split\u001b[0m\u001b[0;34m(\u001b[0m\u001b[0mx\u001b[0m\u001b[0;34m,\u001b[0m \u001b[0my\u001b[0m\u001b[0;34m,\u001b[0m \u001b[0mtrain_size\u001b[0m\u001b[0;34m=\u001b[0m\u001b[0;36m0.70\u001b[0m \u001b[0;34m,\u001b[0m\u001b[0mtest_size\u001b[0m\u001b[0;34m=\u001b[0m\u001b[0;36m0.30\u001b[0m\u001b[0;34m)\u001b[0m\u001b[0;34m\u001b[0m\u001b[0;34m\u001b[0m\u001b[0m\n\u001b[0;32m----> 8\u001b[0;31m \u001b[0mconfusion_matrix\u001b[0m\u001b[0;34m(\u001b[0m\u001b[0mytrain\u001b[0m\u001b[0;34m,\u001b[0m \u001b[0mxtrain\u001b[0m\u001b[0;34m)\u001b[0m\u001b[0;34m\u001b[0m\u001b[0;34m\u001b[0m\u001b[0m\n\u001b[0m",
            "\u001b[0;32m/usr/local/lib/python3.6/dist-packages/sklearn/metrics/classification.py\u001b[0m in \u001b[0;36mconfusion_matrix\u001b[0;34m(y_true, y_pred, labels, sample_weight)\u001b[0m\n\u001b[1;32m    251\u001b[0m \u001b[0;34m\u001b[0m\u001b[0m\n\u001b[1;32m    252\u001b[0m     \"\"\"\n\u001b[0;32m--> 253\u001b[0;31m     \u001b[0my_type\u001b[0m\u001b[0;34m,\u001b[0m \u001b[0my_true\u001b[0m\u001b[0;34m,\u001b[0m \u001b[0my_pred\u001b[0m \u001b[0;34m=\u001b[0m \u001b[0m_check_targets\u001b[0m\u001b[0;34m(\u001b[0m\u001b[0my_true\u001b[0m\u001b[0;34m,\u001b[0m \u001b[0my_pred\u001b[0m\u001b[0;34m)\u001b[0m\u001b[0;34m\u001b[0m\u001b[0;34m\u001b[0m\u001b[0m\n\u001b[0m\u001b[1;32m    254\u001b[0m     \u001b[0;32mif\u001b[0m \u001b[0my_type\u001b[0m \u001b[0;32mnot\u001b[0m \u001b[0;32min\u001b[0m \u001b[0;34m(\u001b[0m\u001b[0;34m\"binary\"\u001b[0m\u001b[0;34m,\u001b[0m \u001b[0;34m\"multiclass\"\u001b[0m\u001b[0;34m)\u001b[0m\u001b[0;34m:\u001b[0m\u001b[0;34m\u001b[0m\u001b[0;34m\u001b[0m\u001b[0m\n\u001b[1;32m    255\u001b[0m         \u001b[0;32mraise\u001b[0m \u001b[0mValueError\u001b[0m\u001b[0;34m(\u001b[0m\u001b[0;34m\"%s is not supported\"\u001b[0m \u001b[0;34m%\u001b[0m \u001b[0my_type\u001b[0m\u001b[0;34m)\u001b[0m\u001b[0;34m\u001b[0m\u001b[0;34m\u001b[0m\u001b[0m\n",
            "\u001b[0;32m/usr/local/lib/python3.6/dist-packages/sklearn/metrics/classification.py\u001b[0m in \u001b[0;36m_check_targets\u001b[0;34m(y_true, y_pred)\u001b[0m\n\u001b[1;32m     79\u001b[0m     \u001b[0;32mif\u001b[0m \u001b[0mlen\u001b[0m\u001b[0;34m(\u001b[0m\u001b[0my_type\u001b[0m\u001b[0;34m)\u001b[0m \u001b[0;34m>\u001b[0m \u001b[0;36m1\u001b[0m\u001b[0;34m:\u001b[0m\u001b[0;34m\u001b[0m\u001b[0;34m\u001b[0m\u001b[0m\n\u001b[1;32m     80\u001b[0m         raise ValueError(\"Classification metrics can't handle a mix of {0} \"\n\u001b[0;32m---> 81\u001b[0;31m                          \"and {1} targets\".format(type_true, type_pred))\n\u001b[0m\u001b[1;32m     82\u001b[0m \u001b[0;34m\u001b[0m\u001b[0m\n\u001b[1;32m     83\u001b[0m     \u001b[0;31m# We can't have more than one value on y_type => The set is no more needed\u001b[0m\u001b[0;34m\u001b[0m\u001b[0;34m\u001b[0m\u001b[0;34m\u001b[0m\u001b[0m\n",
            "\u001b[0;31mValueError\u001b[0m: Classification metrics can't handle a mix of multiclass and multiclass-multioutput targets"
          ]
        }
      ]
    }
  ]
}